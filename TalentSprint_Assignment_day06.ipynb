{
  "nbformat": 4,
  "nbformat_minor": 0,
  "metadata": {
    "colab": {
      "name": "TalentSprint_Assignment_day06.ipynb",
      "provenance": [],
      "private_outputs": true,
      "collapsed_sections": [],
      "toc_visible": true,
      "include_colab_link": true
    },
    "kernelspec": {
      "name": "python3",
      "display_name": "Python 3"
    }
  },
  "cells": [
    {
      "cell_type": "markdown",
      "metadata": {
        "id": "view-in-github",
        "colab_type": "text"
      },
      "source": [
        "<a href=\"https://colab.research.google.com/github/mvmanikan/TalentSprint/blob/master/TalentSprint_Assignment_day06.ipynb\" target=\"_parent\"><img src=\"https://colab.research.google.com/assets/colab-badge.svg\" alt=\"Open In Colab\"/></a>"
      ]
    },
    {
      "cell_type": "markdown",
      "metadata": {
        "id": "bOdqSM9s6ad8",
        "colab_type": "text"
      },
      "source": [
        "## Sales Prediction Using Linear Regression"
      ]
    },
    {
      "cell_type": "markdown",
      "metadata": {
        "id": "CpGR6lfo6yDb",
        "colab_type": "text"
      },
      "source": [
        "### Problem Statement:\n",
        "Build a model which predicts sales based on the money spent on different platforms for marketing."
      ]
    },
    {
      "cell_type": "code",
      "metadata": {
        "id": "QNcZfziI7gnC",
        "colab_type": "code",
        "colab": {}
      },
      "source": [
        "### Run the cell to download the data\n",
        "### you can also take any other dateset of your own and try\n",
        "!wget https://cdn.talentsprint.com/aiml/PY4AIML/advertising.csv\n",
        "import pandas as pd\n",
        "import seaborn as sns\n",
        "import statsmodels.formula.api as smf\n",
        "from sklearn.linear_model import LinearRegression\n",
        "from sklearn import metrics\n",
        "from sklearn.model_selection import train_test_split\n",
        "import numpy as np\n",
        "\n",
        "# allow plots to appear directly in the notebook\n",
        "%matplotlib inline"
      ],
      "execution_count": null,
      "outputs": []
    },
    {
      "cell_type": "markdown",
      "metadata": {
        "id": "TH_O7_sW7Cuu",
        "colab_type": "text"
      },
      "source": [
        "### Exercise 1: Load and understand the data"
      ]
    },
    {
      "cell_type": "code",
      "metadata": {
        "id": "0FPFinQL6TVJ",
        "colab_type": "code",
        "colab": {}
      },
      "source": [
        "import pandas as pd\n",
        "data = pd.read_csv('/content/sample_data/advertising.csv')\n",
        "print(data)\n",
        "data.info()\n",
        "data.head()"
      ],
      "execution_count": null,
      "outputs": []
    },
    {
      "cell_type": "markdown",
      "metadata": {
        "id": "390Id2CC7VMC",
        "colab_type": "text"
      },
      "source": [
        "### Exercise 2: Describe the data and check for the null values(if any)"
      ]
    },
    {
      "cell_type": "code",
      "metadata": {
        "id": "nbrbdOkt7Y6P",
        "colab_type": "code",
        "colab": {}
      },
      "source": [
        "data.describe()\n",
        "data.isna().sum()\n",
        "#data.notnull()\n",
        "#data.isnull()\n",
        "#data.isnull().values.any()"
      ],
      "execution_count": null,
      "outputs": []
    },
    {
      "cell_type": "markdown",
      "metadata": {
        "id": "O_g9yUuk8NGc",
        "colab_type": "text"
      },
      "source": [
        "### Exercise 3: Split the data into train and test set"
      ]
    },
    {
      "cell_type": "code",
      "metadata": {
        "id": "TskqqRB48Vsf",
        "colab_type": "code",
        "colab": {}
      },
      "source": [
        "y = data.Sales\n",
        "X = data.drop('Sales',axis=1)\n",
        "X_train, X_test, y_train, y_test = train_test_split(X, y,test_size=0.2)\n",
        "print(\"\\nX_train:\\n\")\n",
        "print(X_train.head())\n",
        "print(X_train.shape)\n",
        "\n",
        "print(\"\\nX_test:\\n\")\n",
        "print(X_test.head())\n",
        "print(X_test.shape)"
      ],
      "execution_count": null,
      "outputs": []
    },
    {
      "cell_type": "markdown",
      "metadata": {
        "id": "QRlNUQ-18YPd",
        "colab_type": "text"
      },
      "source": [
        "### Exercise 4: Visualize the train and test data"
      ]
    },
    {
      "cell_type": "code",
      "metadata": {
        "id": "5lHIRMjx8dKz",
        "colab_type": "code",
        "colab": {}
      },
      "source": [
        "sns.pairplot(data, x_vars=['TV','Radio','Newspaper'], y_vars='Sales', size=7, aspect=0.7,)\n",
        "#sns.pairplot(data, x_vars=['TV','Radio','Newspaper'], y_vars='Sales', size=7, aspect=0.7, kind='reg')"
      ],
      "execution_count": null,
      "outputs": []
    },
    {
      "cell_type": "markdown",
      "metadata": {
        "id": "R4LoSc2w8kpm",
        "colab_type": "text"
      },
      "source": [
        "### Exercise 5: Apply the Linear Regression Model"
      ]
    },
    {
      "cell_type": "code",
      "metadata": {
        "id": "cQ9UE4d_8rBl",
        "colab_type": "code",
        "colab": {}
      },
      "source": [
        "# create a fitted model\n",
        "lm1 = smf.ols(formula='Sales ~ TV', data=data).fit()# print the coefficients\n",
        "lm1.params\n",
        "\n",
        "### SCIKIT-LEARN #### create X and y\n",
        "feature_cols = ['TV']\n",
        "X = data[feature_cols]\n",
        "y = data.Sales# Initiate and fit\n",
        "lm2 = LinearRegression()\n",
        "lm2.fit(X, y)# print the coefficients\n",
        "print (\"iNTERCEPT : \",lm2.intercept_)\n",
        "print (\"CO-EFFICIENT : \",lm2.coef_)\n"
      ],
      "execution_count": null,
      "outputs": []
    },
    {
      "cell_type": "markdown",
      "metadata": {
        "id": "cs_wZiWX82Oi",
        "colab_type": "text"
      },
      "source": [
        "### Exercise 6: Calculate the RMSE value of the model"
      ]
    },
    {
      "cell_type": "code",
      "metadata": {
        "id": "X1ZH9UVi89hU",
        "colab_type": "code",
        "colab": {}
      },
      "source": [
        "y_true = [100, 50, 30, 20]\n",
        "y_pred = [90, 50, 50, 30]\n",
        "\n",
        "# calculate MAE, MSE, RMSE\n",
        "print (\"mean_absolute_error :\",metrics.mean_absolute_error(y_true, y_pred))\n",
        "print (\"mean_squared_error : \",metrics.mean_squared_error(y_true, y_pred))\n",
        "print (\"root_mean_squared_error : \",np.sqrt(metrics.mean_squared_error(y_true, y_pred)))"
      ],
      "execution_count": null,
      "outputs": []
    }
  ]
}