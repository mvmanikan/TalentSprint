{
  "nbformat": 4,
  "nbformat_minor": 0,
  "metadata": {
    "colab": {
      "name": "TalentSprint_Assignment_day02.ipynb",
      "provenance": [],
      "collapsed_sections": [],
      "authorship_tag": "ABX9TyN1POYLQDZ1qftO1EWoVW+N",
      "include_colab_link": true
    },
    "kernelspec": {
      "name": "python3",
      "display_name": "Python 3"
    }
  },
  "cells": [
    {
      "cell_type": "markdown",
      "metadata": {
        "id": "view-in-github",
        "colab_type": "text"
      },
      "source": [
        "<a href=\"https://colab.research.google.com/github/mvmanikan/TalentSprint/blob/master/TalentSprint_Assignment_day02.ipynb\" target=\"_parent\"><img src=\"https://colab.research.google.com/assets/colab-badge.svg\" alt=\"Open In Colab\"/></a>"
      ]
    },
    {
      "cell_type": "markdown",
      "metadata": {
        "id": "FfLgktfTWZJt",
        "colab_type": "text"
      },
      "source": [
        "# **Problem 01**\n",
        "\n",
        "Date : **15.06.2020**\n",
        "\n",
        "Implement a program which returns the compressed string of a given string.\n",
        "\n",
        "Explanation\n",
        "\n",
        "Reduce the length of the input string be replacing multiple continuous\n",
        "occurrences of the same character by a number and the character.\n",
        "\n",
        "Example:\n",
        "\n",
        "Input : \"aaa\"\n",
        "\n",
        "Output : 3a\n",
        "\n",
        "Input : \"qqqprqcccaa\"\n",
        "\n",
        "Output : \"3qprq3c2a\""
      ]
    },
    {
      "cell_type": "code",
      "metadata": {
        "id": "DZ5g-JtxWtWi",
        "colab_type": "code",
        "outputId": "65675d2c-3b66-442b-8782-42ee5608aef9",
        "colab": {
          "base_uri": "https://localhost:8080/",
          "height": 36
        }
      },
      "source": [
        "string = \"qqqprqcccaa\"\n",
        "#string = \"aaa\"\n",
        "new_string = \" \"\n",
        "count = 1\n",
        "for i in range(len(string)-1):\n",
        "    if string[i] == string[i+1]:\n",
        "        count = count + 1\n",
        "    else:\n",
        "         if (count > 1):\n",
        "            new_string =  new_string + str(count) + string[i]\n",
        "         else:\n",
        "            new_string = new_string + string[i]\n",
        "         count = 1\n",
        "if (count > 1):\n",
        "    new_string = new_string + str(count) + string[i+1]\n",
        "else:\n",
        "    new_string = new_string + string[i+1]\n",
        "print(new_string)"
      ],
      "execution_count": 1,
      "outputs": [
        {
          "output_type": "stream",
          "text": [
            " 3qprq3c2a\n"
          ],
          "name": "stdout"
        }
      ]
    },
    {
      "cell_type": "markdown",
      "metadata": {
        "id": "qb7oGqWyXhiP",
        "colab_type": "text"
      },
      "source": [
        "# **Problem 02**\n",
        "\n",
        "Date : **16.06.2020**\n",
        "\n",
        "Find whether a given string has parentheses nested properly.\n",
        "\n",
        "Implement a function which accepts a string as an argument that contains a \n",
        "text. Find whether the parentheses inside it are properly nested. \n",
        "\n",
        "Note: \n",
        "\n",
        "The string will only contain  open or/and closed parenthesis."
      ]
    },
    {
      "cell_type": "code",
      "metadata": {
        "id": "j317h_A2XzCD",
        "colab_type": "code",
        "outputId": "8a129bc9-8144-418b-99a0-cc5bf4885255",
        "colab": {
          "base_uri": "https://localhost:8080/",
          "height": 54
        }
      },
      "source": [
        "def match_paranthesis(strs):\n",
        "    count = 0\n",
        "    for i in strs:\n",
        "        if (i == \"(\"):\n",
        "            count = count + 1\n",
        "        elif (i == \")\"):\n",
        "            count = count - 1\n",
        "        if (count < 0):\n",
        "            return False\n",
        "    return (count == 0)\n",
        "strs = input(\"Enter the parenthesis to check String: \")\n",
        "print(match_paranthesis(strs))"
      ],
      "execution_count": 0,
      "outputs": [
        {
          "output_type": "stream",
          "text": [
            "Enter the parenthesis to check String: ((()))\n",
            "True\n"
          ],
          "name": "stdout"
        }
      ]
    },
    {
      "cell_type": "markdown",
      "metadata": {
        "id": "XMdR4M27ZdHT",
        "colab_type": "text"
      },
      "source": [
        "# **Problem 03**\n",
        "\n",
        "Date :**16.06.2020**\n",
        "\n",
        "An anagram is a word or phrase formed by rearranging the letters of a different \n",
        "word or phrase, typically using all the original letters exactly once.  \n",
        "\n",
        "For example, the word anagram can be rearranged into nag a ram, or the word \n",
        "binary into brainy or the word adobe into abode. \n",
        "\n",
        "Given a list of strings, Implement a function(s) which will group anagrams \n",
        "together. \n",
        "\n",
        "Example: \n",
        "\n",
        "Input: [\"eat\", \"tea\", \"tan\", \"ate\", \"nat\", \"bat\"], \n",
        "\n",
        "Output: \n",
        "[ \n",
        "  [\"ate\",\"eat\",\"tea\"], \n",
        "  [\"nat\",\"tan\"], \n",
        "  [\"bat\"] \n",
        "]"
      ]
    },
    {
      "cell_type": "code",
      "metadata": {
        "id": "c1JiSP35ZtNs",
        "colab_type": "code",
        "outputId": "ac2cd67a-11a4-4a56-bb8a-93000df32407",
        "colab": {
          "base_uri": "https://localhost:8080/",
          "height": 36
        }
      },
      "source": [
        "def list_anagram(lis):\n",
        "      result = {}\n",
        "      for i in lis:\n",
        "         x = \"\".join(sorted(i))\n",
        "         if x not in result:\n",
        "             result[x] = [i]\n",
        "         else:\n",
        "             result[x].append(i)\n",
        "      return list(result.values())\n",
        "print(list_anagram([\"eat\", \"tea\", \"tan\", \"ate\", \"nat\", \"bat\"]))\n",
        "#print(list_anagram([\"brainy\", \"abode\", \"binary\", \"adobe\"]))"
      ],
      "execution_count": 2,
      "outputs": [
        {
          "output_type": "stream",
          "text": [
            "[['eat', 'tea', 'ate'], ['tan', 'nat'], ['bat']]\n"
          ],
          "name": "stdout"
        }
      ]
    }
  ]
}