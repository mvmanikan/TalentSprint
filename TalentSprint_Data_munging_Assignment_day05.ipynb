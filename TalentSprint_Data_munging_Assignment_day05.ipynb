{
  "nbformat": 4,
  "nbformat_minor": 0,
  "metadata": {
    "colab": {
      "name": "TalentSprint_Data_munging_Assignment_day05.ipynb",
      "provenance": [],
      "collapsed_sections": [],
      "toc_visible": true,
      "include_colab_link": true
    },
    "kernelspec": {
      "name": "python3",
      "display_name": "Python 3"
    }
  },
  "cells": [
    {
      "cell_type": "markdown",
      "metadata": {
        "id": "view-in-github",
        "colab_type": "text"
      },
      "source": [
        "<a href=\"https://colab.research.google.com/github/mvmanikan/TalentSprint/blob/master/TalentSprint_Data_munging_Assignment_day05.ipynb\" target=\"_parent\"><img src=\"https://colab.research.google.com/assets/colab-badge.svg\" alt=\"Open In Colab\"/></a>"
      ]
    },
    {
      "cell_type": "markdown",
      "metadata": {
        "id": "e5_uG5QyzF95",
        "colab_type": "text"
      },
      "source": [
        "## Pandas"
      ]
    },
    {
      "cell_type": "markdown",
      "metadata": {
        "id": "7DyieCzoGrWG",
        "colab_type": "text"
      },
      "source": [
        "### Data Description:\n",
        "\n",
        "* The dataset is made up of 1016810 rows and 7 columns. \n",
        "\n",
        "* Each line is the data of one student\n",
        "\n",
        "* The seven columns correspond to \n",
        "   - Region Code\n",
        "   - student id\n",
        "   - English marks\n",
        "   - First Language marks\n",
        "   - Math marks\n",
        "   - Science marks\n",
        "   - Social marks\n",
        "* The marks for the students absent  for the exam are sometimes denoted by 'A', sometimes denoted by ' AA', sometimes denoted by 'AAA' and sometimes denoted by 'G'\n",
        "\n",
        "* If the student is not marked as absent but no marks in a subject then he is a supplementary candidate."
      ]
    },
    {
      "cell_type": "markdown",
      "metadata": {
        "id": "wLcx8LeUJfJq",
        "colab_type": "text"
      },
      "source": [
        "#### Exercise 1 :\n",
        "\n",
        "Load the dataset using Pandas and drop all the supplementary candidates from the dataset"
      ]
    },
    {
      "cell_type": "code",
      "metadata": {
        "id": "EnjXfohrKdIx",
        "colab_type": "code",
        "colab": {
          "base_uri": "https://localhost:8080/",
          "height": 206
        },
        "outputId": "9dd775c6-6e1b-435a-f7d3-4a882c4b0bce"
      },
      "source": [
        "import pandas as pd\n",
        "#data = pd.read_csv('/content/sample_data/Data_Munging_SSLC_data.txt', sep=';', header=None, names=['RegionCode' , 'StudentId', 'English' , 'FirstLanguage', 'Maths', 'Science', 'Social'])\n",
        "data = pd.read_csv('/content/sample_data/Data_Munging_SSLC_data.txt')\n",
        "data.head()\n",
        "data.drop(data.iloc[3].str.contains(',').index,axis=1)\n",
        "data.drop(data.iloc[4].str.contains(',').index,axis=1)\n",
        "data.drop(data.iloc[5].str.contains(',').index,axis=1)\n",
        "data.drop(data.iloc[6].str.contains(',').index,axis=1)\n",
        "data.head(5)\n",
        "data.tail(5)"
      ],
      "execution_count": 5,
      "outputs": [
        {
          "output_type": "execute_result",
          "data": {
            "text/html": [
              "<div>\n",
              "<style scoped>\n",
              "    .dataframe tbody tr th:only-of-type {\n",
              "        vertical-align: middle;\n",
              "    }\n",
              "\n",
              "    .dataframe tbody tr th {\n",
              "        vertical-align: top;\n",
              "    }\n",
              "\n",
              "    .dataframe thead th {\n",
              "        text-align: right;\n",
              "    }\n",
              "</style>\n",
              "<table border=\"1\" class=\"dataframe\">\n",
              "  <thead>\n",
              "    <tr style=\"text-align: right;\">\n",
              "      <th></th>\n",
              "      <th>01;010001;053;036; 28; 16; 44</th>\n",
              "    </tr>\n",
              "  </thead>\n",
              "  <tbody>\n",
              "    <tr>\n",
              "      <th>34951</th>\n",
              "      <td>04;045599;;;;;</td>\n",
              "    </tr>\n",
              "    <tr>\n",
              "      <th>34952</th>\n",
              "      <td>04;045600;089;070; 83; 73; 75</td>\n",
              "    </tr>\n",
              "    <tr>\n",
              "      <th>34953</th>\n",
              "      <td>04;045601;088;063; 79; 74; 74</td>\n",
              "    </tr>\n",
              "    <tr>\n",
              "      <th>34954</th>\n",
              "      <td>04;045602;091;074; 80; 77; 88</td>\n",
              "    </tr>\n",
              "    <tr>\n",
              "      <th>34955</th>\n",
              "      <td>04;045603;092;082;100; 93; 8</td>\n",
              "    </tr>\n",
              "  </tbody>\n",
              "</table>\n",
              "</div>"
            ],
            "text/plain": [
              "       01;010001;053;036; 28; 16; 44\n",
              "34951                 04;045599;;;;;\n",
              "34952  04;045600;089;070; 83; 73; 75\n",
              "34953  04;045601;088;063; 79; 74; 74\n",
              "34954  04;045602;091;074; 80; 77; 88\n",
              "34955   04;045603;092;082;100; 93; 8"
            ]
          },
          "metadata": {
            "tags": []
          },
          "execution_count": 5
        }
      ]
    },
    {
      "cell_type": "markdown",
      "metadata": {
        "id": "5uWEzk58znbS",
        "colab_type": "text"
      },
      "source": [
        "### Exercise 2:\n",
        "Display the first and last 5 rows of the data"
      ]
    },
    {
      "cell_type": "code",
      "metadata": {
        "id": "Py_cBUi9yD8d",
        "colab_type": "code",
        "colab": {
          "base_uri": "https://localhost:8080/",
          "height": 206
        },
        "outputId": "711e0d87-75b7-42cf-e84a-97646cd2c138"
      },
      "source": [
        "data.head(5)\n",
        "data.tail(5)"
      ],
      "execution_count": 6,
      "outputs": [
        {
          "output_type": "execute_result",
          "data": {
            "text/html": [
              "<div>\n",
              "<style scoped>\n",
              "    .dataframe tbody tr th:only-of-type {\n",
              "        vertical-align: middle;\n",
              "    }\n",
              "\n",
              "    .dataframe tbody tr th {\n",
              "        vertical-align: top;\n",
              "    }\n",
              "\n",
              "    .dataframe thead th {\n",
              "        text-align: right;\n",
              "    }\n",
              "</style>\n",
              "<table border=\"1\" class=\"dataframe\">\n",
              "  <thead>\n",
              "    <tr style=\"text-align: right;\">\n",
              "      <th></th>\n",
              "      <th>01;010001;053;036; 28; 16; 44</th>\n",
              "    </tr>\n",
              "  </thead>\n",
              "  <tbody>\n",
              "    <tr>\n",
              "      <th>34951</th>\n",
              "      <td>04;045599;;;;;</td>\n",
              "    </tr>\n",
              "    <tr>\n",
              "      <th>34952</th>\n",
              "      <td>04;045600;089;070; 83; 73; 75</td>\n",
              "    </tr>\n",
              "    <tr>\n",
              "      <th>34953</th>\n",
              "      <td>04;045601;088;063; 79; 74; 74</td>\n",
              "    </tr>\n",
              "    <tr>\n",
              "      <th>34954</th>\n",
              "      <td>04;045602;091;074; 80; 77; 88</td>\n",
              "    </tr>\n",
              "    <tr>\n",
              "      <th>34955</th>\n",
              "      <td>04;045603;092;082;100; 93; 8</td>\n",
              "    </tr>\n",
              "  </tbody>\n",
              "</table>\n",
              "</div>"
            ],
            "text/plain": [
              "       01;010001;053;036; 28; 16; 44\n",
              "34951                 04;045599;;;;;\n",
              "34952  04;045600;089;070; 83; 73; 75\n",
              "34953  04;045601;088;063; 79; 74; 74\n",
              "34954  04;045602;091;074; 80; 77; 88\n",
              "34955   04;045603;092;082;100; 93; 8"
            ]
          },
          "metadata": {
            "tags": []
          },
          "execution_count": 6
        }
      ]
    },
    {
      "cell_type": "markdown",
      "metadata": {
        "id": "omQaBoJDKfbf",
        "colab_type": "text"
      },
      "source": [
        "#### Exercise 3 :\n",
        "\n",
        "Standardize the indication  for the absent students. \n",
        "\n",
        "For example replace all absentees notation with  'ABS'"
      ]
    },
    {
      "cell_type": "code",
      "metadata": {
        "id": "phciZzvCLh3J",
        "colab_type": "code",
        "colab": {
          "base_uri": "https://localhost:8080/",
          "height": 72
        },
        "outputId": "c2478ceb-8699-46d6-c24d-9f16bf6500a5"
      },
      "source": [
        "data = pd.read_csv('/content/sample_data/Data_Munging_SSLC_data.txt', sep=';', header=None, names=['RegionCode' , 'StudentId', 'English' , 'FirstLanguage', 'Maths', 'Science', 'Social'])\n",
        "data.replace(to_replace = [\"A\",\"AA\",\"AAA\",\"G\"],value = \"ABS\")\n",
        "res1 = data.loc[data.English == \"AAA\"]\n",
        "res1 = data.loc[data.FirstLanguage == \"ABS\"]\n",
        "res1 = data.loc[data.Maths == \"ABS\"]\n",
        "res1 = data.loc[data.Science == \"ABS\"]\n",
        "res1\n",
        "data.replace(to_replace = \"048\",value = \"049\")\n",
        "res = data.loc[data.English == 48]\n",
        "data.head()\n",
        "print(res)"
      ],
      "execution_count": 7,
      "outputs": [
        {
          "output_type": "stream",
          "text": [
            "Empty DataFrame\n",
            "Columns: [RegionCode, StudentId, English, FirstLanguage, Maths, Science, Social]\n",
            "Index: []\n"
          ],
          "name": "stdout"
        }
      ]
    },
    {
      "cell_type": "markdown",
      "metadata": {
        "id": "zRjrEs5BLkQT",
        "colab_type": "text"
      },
      "source": [
        "#### Exercise 4 :\n",
        "\n",
        "Draw a stacked bar plot. Representing regions verus number of students with first class, number of students with second class and number of students with third class. \n",
        "\n",
        "* First class >= 60\n",
        "* Second class >= 50\n",
        "* Third class  >= 40"
      ]
    },
    {
      "cell_type": "code",
      "metadata": {
        "id": "M9W0yig80N34",
        "colab_type": "code",
        "colab": {
          "base_uri": "https://localhost:8080/",
          "height": 398
        },
        "outputId": "80f91705-bf6d-4b20-ace3-78bc67de5ff6"
      },
      "source": [
        "import numpy as np\n",
        "import pandas as pd\n",
        "import matplotlib.pyplot as plt\n",
        "data = pd.read_csv('/content/sample_data/Data_Munging_SSLC_data.txt', sep=';', header=None, names=['RegionCode' , 'StudentId', 'English' , 'FirstLanguage', 'Maths', 'Science', 'Social'])\n",
        "res = data[['English', 'FirstLanguage']].iloc[[2,3]].mean(axis=1)\n",
        "dfs = list()\n",
        "for l in data:\n",
        "    dfs.append(data[['English', 'FirstLanguage']].iloc[l].mean(axis=1))\n",
        "\n",
        "mean_matrix = pd.concat(dfs, axis=1).T\n",
        "print(mean_matrix)"
      ],
      "execution_count": 19,
      "outputs": [
        {
          "output_type": "error",
          "ename": "TypeError",
          "evalue": "ignored",
          "traceback": [
            "\u001b[0;31m---------------------------------------------------------------------------\u001b[0m",
            "\u001b[0;31mTypeError\u001b[0m                                 Traceback (most recent call last)",
            "\u001b[0;32m<ipython-input-19-9d6396cc3427>\u001b[0m in \u001b[0;36m<module>\u001b[0;34m()\u001b[0m\n\u001b[1;32m      6\u001b[0m \u001b[0mdfs\u001b[0m \u001b[0;34m=\u001b[0m \u001b[0mlist\u001b[0m\u001b[0;34m(\u001b[0m\u001b[0;34m)\u001b[0m\u001b[0;34m\u001b[0m\u001b[0;34m\u001b[0m\u001b[0m\n\u001b[1;32m      7\u001b[0m \u001b[0;32mfor\u001b[0m \u001b[0ml\u001b[0m \u001b[0;32min\u001b[0m \u001b[0mdata\u001b[0m\u001b[0;34m:\u001b[0m\u001b[0;34m\u001b[0m\u001b[0;34m\u001b[0m\u001b[0m\n\u001b[0;32m----> 8\u001b[0;31m     \u001b[0mdfs\u001b[0m\u001b[0;34m.\u001b[0m\u001b[0mappend\u001b[0m\u001b[0;34m(\u001b[0m\u001b[0mdata\u001b[0m\u001b[0;34m[\u001b[0m\u001b[0;34m[\u001b[0m\u001b[0;34m'English'\u001b[0m\u001b[0;34m,\u001b[0m \u001b[0;34m'FirstLanguage'\u001b[0m\u001b[0;34m]\u001b[0m\u001b[0;34m]\u001b[0m\u001b[0;34m.\u001b[0m\u001b[0miloc\u001b[0m\u001b[0;34m[\u001b[0m\u001b[0ml\u001b[0m\u001b[0;34m]\u001b[0m\u001b[0;34m.\u001b[0m\u001b[0mmean\u001b[0m\u001b[0;34m(\u001b[0m\u001b[0maxis\u001b[0m\u001b[0;34m=\u001b[0m\u001b[0;36m1\u001b[0m\u001b[0;34m)\u001b[0m\u001b[0;34m)\u001b[0m\u001b[0;34m\u001b[0m\u001b[0;34m\u001b[0m\u001b[0m\n\u001b[0m\u001b[1;32m      9\u001b[0m \u001b[0;34m\u001b[0m\u001b[0m\n\u001b[1;32m     10\u001b[0m \u001b[0mmean_matrix\u001b[0m \u001b[0;34m=\u001b[0m \u001b[0mpd\u001b[0m\u001b[0;34m.\u001b[0m\u001b[0mconcat\u001b[0m\u001b[0;34m(\u001b[0m\u001b[0mdfs\u001b[0m\u001b[0;34m,\u001b[0m \u001b[0maxis\u001b[0m\u001b[0;34m=\u001b[0m\u001b[0;36m1\u001b[0m\u001b[0;34m)\u001b[0m\u001b[0;34m.\u001b[0m\u001b[0mT\u001b[0m\u001b[0;34m\u001b[0m\u001b[0;34m\u001b[0m\u001b[0m\n",
            "\u001b[0;32m/usr/local/lib/python3.6/dist-packages/pandas/core/indexing.py\u001b[0m in \u001b[0;36m__getitem__\u001b[0;34m(self, key)\u001b[0m\n\u001b[1;32m   1766\u001b[0m \u001b[0;34m\u001b[0m\u001b[0m\n\u001b[1;32m   1767\u001b[0m             \u001b[0mmaybe_callable\u001b[0m \u001b[0;34m=\u001b[0m \u001b[0mcom\u001b[0m\u001b[0;34m.\u001b[0m\u001b[0mapply_if_callable\u001b[0m\u001b[0;34m(\u001b[0m\u001b[0mkey\u001b[0m\u001b[0;34m,\u001b[0m \u001b[0mself\u001b[0m\u001b[0;34m.\u001b[0m\u001b[0mobj\u001b[0m\u001b[0;34m)\u001b[0m\u001b[0;34m\u001b[0m\u001b[0;34m\u001b[0m\u001b[0m\n\u001b[0;32m-> 1768\u001b[0;31m             \u001b[0;32mreturn\u001b[0m \u001b[0mself\u001b[0m\u001b[0;34m.\u001b[0m\u001b[0m_getitem_axis\u001b[0m\u001b[0;34m(\u001b[0m\u001b[0mmaybe_callable\u001b[0m\u001b[0;34m,\u001b[0m \u001b[0maxis\u001b[0m\u001b[0;34m=\u001b[0m\u001b[0maxis\u001b[0m\u001b[0;34m)\u001b[0m\u001b[0;34m\u001b[0m\u001b[0;34m\u001b[0m\u001b[0m\n\u001b[0m\u001b[1;32m   1769\u001b[0m \u001b[0;34m\u001b[0m\u001b[0m\n\u001b[1;32m   1770\u001b[0m     \u001b[0;32mdef\u001b[0m \u001b[0m_is_scalar_access\u001b[0m\u001b[0;34m(\u001b[0m\u001b[0mself\u001b[0m\u001b[0;34m,\u001b[0m \u001b[0mkey\u001b[0m\u001b[0;34m:\u001b[0m \u001b[0mTuple\u001b[0m\u001b[0;34m)\u001b[0m\u001b[0;34m:\u001b[0m\u001b[0;34m\u001b[0m\u001b[0;34m\u001b[0m\u001b[0m\n",
            "\u001b[0;32m/usr/local/lib/python3.6/dist-packages/pandas/core/indexing.py\u001b[0m in \u001b[0;36m_getitem_axis\u001b[0;34m(self, key, axis)\u001b[0m\n\u001b[1;32m   2133\u001b[0m             \u001b[0mkey\u001b[0m \u001b[0;34m=\u001b[0m \u001b[0mitem_from_zerodim\u001b[0m\u001b[0;34m(\u001b[0m\u001b[0mkey\u001b[0m\u001b[0;34m)\u001b[0m\u001b[0;34m\u001b[0m\u001b[0;34m\u001b[0m\u001b[0m\n\u001b[1;32m   2134\u001b[0m             \u001b[0;32mif\u001b[0m \u001b[0;32mnot\u001b[0m \u001b[0mis_integer\u001b[0m\u001b[0;34m(\u001b[0m\u001b[0mkey\u001b[0m\u001b[0;34m)\u001b[0m\u001b[0;34m:\u001b[0m\u001b[0;34m\u001b[0m\u001b[0;34m\u001b[0m\u001b[0m\n\u001b[0;32m-> 2135\u001b[0;31m                 \u001b[0;32mraise\u001b[0m \u001b[0mTypeError\u001b[0m\u001b[0;34m(\u001b[0m\u001b[0;34m\"Cannot index by location index with a non-integer key\"\u001b[0m\u001b[0;34m)\u001b[0m\u001b[0;34m\u001b[0m\u001b[0;34m\u001b[0m\u001b[0m\n\u001b[0m\u001b[1;32m   2136\u001b[0m \u001b[0;34m\u001b[0m\u001b[0m\n\u001b[1;32m   2137\u001b[0m             \u001b[0;31m# validate the location\u001b[0m\u001b[0;34m\u001b[0m\u001b[0;34m\u001b[0m\u001b[0;34m\u001b[0m\u001b[0m\n",
            "\u001b[0;31mTypeError\u001b[0m: Cannot index by location index with a non-integer key"
          ]
        }
      ]
    },
    {
      "cell_type": "code",
      "metadata": {
        "id": "FHRI8KMTWMuT",
        "colab_type": "code",
        "colab": {
          "base_uri": "https://localhost:8080/",
          "height": 268
        },
        "outputId": "13317d4d-5afa-42ef-9f9e-14d9c69eb572"
      },
      "source": [
        "import numpy as np\n",
        "import matplotlib.pyplot as plt\n",
        "\n",
        "A = np.array([5., 30., 45., 22.])\n",
        "B = np.array([5., 25., 50., 20.])\n",
        "C = np.array([1.,  2.,  1.,  1.])\n",
        "X = np.arange(4)\n",
        "\n",
        "plt.bar(X, A, color = 'b')\n",
        "plt.bar(X, B, color = 'g', bottom = A)\n",
        "plt.bar(X, C, color = 'r', bottom = A + B)\n",
        "\n",
        "plt.show()"
      ],
      "execution_count": 20,
      "outputs": [
        {
          "output_type": "display_data",
          "data": {
            "image/png": "[encoded data removed]",
            "text/plain": [
              "<Figure size 432x288 with 1 Axes>"
            ]
          },
          "metadata": {
            "tags": [],
            "needs_background": "light"
          }
        }
      ]
    }
  ]
}