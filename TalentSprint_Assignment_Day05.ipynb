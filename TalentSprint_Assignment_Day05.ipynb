{
  "nbformat": 4,
  "nbformat_minor": 0,
  "metadata": {
    "colab": {
      "name": "TalentSprint_Assignment_Day05.ipynb",
      "provenance": [],
      "private_outputs": true,
      "collapsed_sections": [],
      "toc_visible": true,
      "include_colab_link": true
    },
    "kernelspec": {
      "name": "python3",
      "display_name": "Python 3"
    }
  },
  "cells": [
    {
      "cell_type": "markdown",
      "metadata": {
        "id": "view-in-github",
        "colab_type": "text"
      },
      "source": [
        "<a href=\"https://colab.research.google.com/github/mvmanikan/TalentSprint/blob/master/TalentSprint_Assignment_Day05.ipynb\" target=\"_parent\"><img src=\"https://colab.research.google.com/assets/colab-badge.svg\" alt=\"Open In Colab\"/></a>"
      ]
    },
    {
      "cell_type": "markdown",
      "metadata": {
        "id": "QmLcx3UyVCoi",
        "colab_type": "text"
      },
      "source": [
        "## Pandas"
      ]
    },
    {
      "cell_type": "markdown",
      "metadata": {
        "id": "a7yix3imVWJx",
        "colab_type": "text"
      },
      "source": [
        "### Exercise 1: Read the file (samplemoviesdata.csv) into pandas dataframe"
      ]
    },
    {
      "cell_type": "code",
      "metadata": {
        "id": "yjhPKW7KU6Xc",
        "colab_type": "code",
        "colab": {}
      },
      "source": [
        "import pandas as pd\n",
        "import numpy as np\n",
        "data = pd.read_csv(\"/content/sample_data/samplemoviedata.csv\")\n",
        "data.head()"
      ],
      "execution_count": null,
      "outputs": []
    },
    {
      "cell_type": "markdown",
      "metadata": {
        "id": "Y5sTJNlOVbHp",
        "colab_type": "text"
      },
      "source": [
        "### Exercise 2: print the full summary of the dataframe"
      ]
    },
    {
      "cell_type": "code",
      "metadata": {
        "id": "Lo0uuLVRVk5y",
        "colab_type": "code",
        "colab": {}
      },
      "source": [
        "data.info(verbose=True)\n",
        "print()\n",
        "data.info(verbose=False)\n",
        "print()\n",
        "data.describe()"
      ],
      "execution_count": null,
      "outputs": []
    },
    {
      "cell_type": "markdown",
      "metadata": {
        "id": "Gi16ufjDVm8N",
        "colab_type": "text"
      },
      "source": [
        "### Exercise 3: Remove information of the movie which doesn’t have information on when the movie came out"
      ]
    },
    {
      "cell_type": "code",
      "metadata": {
        "id": "aEJOtrdqVs--",
        "colab_type": "code",
        "colab": {}
      },
      "source": [
        "#data.dropna()\n",
        "data.dropna(subset = ['title_year'])\n",
        "\n"
      ],
      "execution_count": null,
      "outputs": []
    },
    {
      "cell_type": "markdown",
      "metadata": {
        "id": "xzEHdi5kVuv_",
        "colab_type": "text"
      },
      "source": [
        "### Exercise 4: Change all movie titles to uppercase"
      ]
    },
    {
      "cell_type": "code",
      "metadata": {
        "id": "bhdFl6WiVzNA",
        "colab_type": "code",
        "colab": {}
      },
      "source": [
        "data['movie_title'] = data['movie_title'].str.upper()\n",
        "result = data[['movie_title','country','language']]\n",
        "print(result)  \n",
        "data.head() "
      ],
      "execution_count": null,
      "outputs": []
    },
    {
      "cell_type": "markdown",
      "metadata": {
        "id": "aaa6WpBEV2pF",
        "colab_type": "text"
      },
      "source": [
        "### Exercise 5: Remove the movie titles trailing whitespaces"
      ]
    },
    {
      "cell_type": "code",
      "metadata": {
        "id": "7HN--1MBV7si",
        "colab_type": "code",
        "colab": {}
      },
      "source": [
        "data['movie_title'] = data['movie_title'].str.strip()\n",
        "result = data[['movie_title','country','language']]\n",
        "print(result)  \n",
        "data.head()   "
      ],
      "execution_count": null,
      "outputs": []
    }
  ]
}