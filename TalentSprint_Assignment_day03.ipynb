{
  "nbformat": 4,
  "nbformat_minor": 0,
  "metadata": {
    "colab": {
      "name": "TalentSprint_Assignment_day03.ipynb",
      "provenance": [],
      "private_outputs": true,
      "collapsed_sections": [],
      "include_colab_link": true
    },
    "kernelspec": {
      "name": "python3",
      "display_name": "Python 3"
    }
  },
  "cells": [
    {
      "cell_type": "markdown",
      "metadata": {
        "id": "view-in-github",
        "colab_type": "text"
      },
      "source": [
        "<a href=\"https://colab.research.google.com/github/mvmanikan/TalentSprint/blob/master/TalentSprint_Assignment_day03.ipynb\" target=\"_parent\"><img src=\"https://colab.research.google.com/assets/colab-badge.svg\" alt=\"Open In Colab\"/></a>"
      ]
    },
    {
      "cell_type": "markdown",
      "metadata": {
        "id": "9rVMhZ0lz7ow",
        "colab_type": "text"
      },
      "source": [
        "### Q1. Use Higher Order Function which takes  \n",
        "###      [[1, 2], [3, 4], [ ], [5], [2,3]]  \n",
        "###      output : [1, 2, 3, 4, 5, 2, 3]"
      ]
    },
    {
      "cell_type": "code",
      "metadata": {
        "id": "__Mj6su11gG9",
        "colab_type": "code",
        "colab": {}
      },
      "source": [
        "from functools import reduce\n",
        "input = [[1, 2], [3, 4], [ ], [5], [2,3]]\n",
        "#input = [[1, 2, 3], [4, 5, 6], [7], [8, 9]]\n",
        "result = reduce(lambda x,y: x+y,input)\n",
        "print(result)   "
      ],
      "execution_count": null,
      "outputs": []
    },
    {
      "cell_type": "markdown",
      "metadata": {
        "id": "HL-H72NT1IVq",
        "colab_type": "text"
      },
      "source": [
        "### Q2. Define a strong_number function which checks given number is a strong number. Use this function to pass into strong_number_list(list, strong_number) which prints strong numbers in a given list."
      ]
    },
    {
      "cell_type": "code",
      "metadata": {
        "id": "PmkIrxuy1jSc",
        "colab_type": "code",
        "colab": {}
      },
      "source": [
        "def strong_number(x):\n",
        "    sum = 0\n",
        "    check = x\n",
        "    while (x > 0):\n",
        "        total = 1\n",
        "        temp = x % 10\n",
        "        for i in range(1 , temp+1):\n",
        "            total = i * total\n",
        "        sum = total + sum\n",
        "        x = x // 10\n",
        "    if (check == sum):\n",
        "       return True\n",
        "    else:\n",
        "       return False\n",
        "\n",
        "def strong_number_list(x,NONE):\n",
        "    newlist = []\n",
        "    for i in x:\n",
        "        if strong_number(i):\n",
        "            newlist.append(i)\n",
        "    print(str(newlist) + ' ' + \"are the strong numbers from the list\")\n",
        "\n",
        "list = [123, 145, 375, 100, 2, 10, 40585]\n",
        "strong_number_list(list,strong_number)"
      ],
      "execution_count": null,
      "outputs": []
    },
    {
      "cell_type": "markdown",
      "metadata": {
        "id": "YG_jq2ZF-0Cb",
        "colab_type": "text"
      },
      "source": [
        "### Q3.Example piecewise function,\n",
        "###f(x) = $\n",
        "\\cases{\n",
        "x^2      &   $x\\lt 1 $\\cr\n",
        "3-x     &   $x\\ge 1$\n",
        "}$\n",
        "\n"
      ]
    },
    {
      "cell_type": "code",
      "metadata": {
        "id": "L7WT3o8XO04J",
        "colab_type": "code",
        "colab": {}
      },
      "source": [
        "def piecewise(lower_func, upper_func, cutoff):\n",
        "  def f(x):\n",
        "    if x < cutoff:\n",
        "      return lower_func(x)\n",
        "    else:\n",
        "      return upper_func(x)\n",
        "  return f\n",
        "\n",
        "#Execute piecewise function parmameters using anonymous lambda functions and a cutoff vaulue as 1 \n",
        "#Expected Output\n",
        " #f(0.5)  is  0.16  after rounded to two decimal points\n",
        "f = (lambda x: piecewise(x*x,3-x,1))\n",
        "result = f(0.5)\n",
        "print(result)"
      ],
      "execution_count": null,
      "outputs": []
    },
    {
      "cell_type": "markdown",
      "metadata": {
        "id": "cEBfZ9dJRpOR",
        "colab_type": "text"
      },
      "source": [
        "### Q4. Write Function which returns, not the first, but the last element in the list that is divisible by the parameter divisor."
      ]
    },
    {
      "cell_type": "code",
      "metadata": {
        "id": "NzhheS1XRvmP",
        "colab_type": "code",
        "colab": {}
      },
      "source": [
        "def check_divisible(x,y):\n",
        "    for i in x:\n",
        "        if ( i % y == 0):\n",
        "            final = i\n",
        "    print(final)\n",
        "\n",
        "liste = [10, 20, 33, 15, 9]\n",
        "check_divisible(liste,3)"
      ],
      "execution_count": null,
      "outputs": []
    },
    {
      "cell_type": "code",
      "metadata": {
        "id": "HoUH9CwQwFPS",
        "colab_type": "code",
        "colab": {}
      },
      "source": [
        "lis = [10, 20, 33, 15, 9]\n",
        "y = 3\n",
        "result = list(filter(lambda x: (x % y == 0),lis))[-1]\n",
        "print(result)"
      ],
      "execution_count": null,
      "outputs": []
    },
    {
      "cell_type": "markdown",
      "metadata": {
        "id": "zbuVSZpNSfTI",
        "colab_type": "text"
      },
      "source": [
        "### Q5. Complete  the  following  function  definition  so  that  it  finds  the  first  pair  of adjacent items in the input list that are in descending order, and returns the index of the first element of the pair. If there is no such pair, it returns None.  Example:\n"
      ]
    },
    {
      "cell_type": "code",
      "metadata": {
        "id": "eg3d-bvASkXZ",
        "colab_type": "code",
        "colab": {}
      },
      "source": [
        "#pair_search([1,3,4,6,8,7,6])\n",
        "#output   4\n",
        "\n"
      ],
      "execution_count": null,
      "outputs": []
    }
  ]
}