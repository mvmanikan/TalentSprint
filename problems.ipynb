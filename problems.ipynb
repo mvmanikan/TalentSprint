{
  "nbformat": 4,
  "nbformat_minor": 0,
  "metadata": {
    "colab": {
      "name": "problems.ipynb",
      "provenance": [],
      "collapsed_sections": [],
      "include_colab_link": true
    },
    "kernelspec": {
      "name": "python3",
      "display_name": "Python 3"
    }
  },
  "cells": [
    {
      "cell_type": "markdown",
      "metadata": {
        "id": "view-in-github",
        "colab_type": "text"
      },
      "source": [
        "<a href=\"https://colab.research.google.com/github/mvmanikan/TalentSprint/blob/master/problems.ipynb\" target=\"_parent\"><img src=\"https://colab.research.google.com/assets/colab-badge.svg\" alt=\"Open In Colab\"/></a>"
      ]
    },
    {
      "cell_type": "code",
      "metadata": {
        "id": "_8JwAqv3jz7i",
        "colab_type": "code",
        "colab": {
          "base_uri": "https://localhost:8080/",
          "height": 50
        },
        "outputId": "269d3ff5-be09-4d7a-98ae-1b7ba3f6d4f0"
      },
      "source": [
        "a=float(input())\n",
        "x=0\n",
        "y=1\n",
        "z=0.00000001\n",
        "while(y>z):\n",
        "  if((x+y)*(x+y)<a):\n",
        "    x=x+y\n",
        "  else:\n",
        "    y=0.1*y\n",
        "print(x)"
      ],
      "execution_count": null,
      "outputs": [
        {
          "output_type": "stream",
          "text": [
            "1002\n",
            "31.654383580000033\n"
          ],
          "name": "stdout"
        }
      ]
    },
    {
      "cell_type": "code",
      "metadata": {
        "id": "jv4RpEQ0VgIq",
        "colab_type": "code",
        "colab": {
          "base_uri": "https://localhost:8080/",
          "height": 50
        },
        "outputId": "beed84c5-9ab9-4cac-a621-18d653e8f593"
      },
      "source": [
        "def isStrongnumber(a):\n",
        "  b=0\n",
        "  for x in a:\n",
        "    b=b+l[int(x)]\n",
        "  if(b==int(a)):\n",
        "    return True\n",
        "  else:\n",
        "    return False\n",
        "\n",
        "l=[1]\n",
        "for x in range(1, 10):\n",
        "  l.append(l[x-1]*x)\n",
        "print(isStrongnumber(input()))\n"
      ],
      "execution_count": null,
      "outputs": [
        {
          "output_type": "stream",
          "text": [
            "145\n",
            "True\n"
          ],
          "name": "stdout"
        }
      ]
    },
    {
      "cell_type": "code",
      "metadata": {
        "id": "ufUVgjATZMyt",
        "colab_type": "code",
        "colab": {
          "base_uri": "https://localhost:8080/",
          "height": 84
        },
        "outputId": "2134f7ae-d93a-4e0d-bc36-cf7c4748cebb"
      },
      "source": [
        "def findArmstrong():\n",
        "  for x in range(100, 1000):\n",
        "    y=str(x)\n",
        "    s=0\n",
        "    for z in y:\n",
        "      s=s+int(z)**3\n",
        "    if s==x:\n",
        "      print(x)\n",
        "\n",
        "findArmstrong()"
      ],
      "execution_count": null,
      "outputs": [
        {
          "output_type": "stream",
          "text": [
            "153\n",
            "370\n",
            "371\n",
            "407\n"
          ],
          "name": "stdout"
        }
      ]
    },
    {
      "cell_type": "code",
      "metadata": {
        "id": "BsPHS1M5abOL",
        "colab_type": "code",
        "colab": {
          "base_uri": "https://localhost:8080/",
          "height": 50
        },
        "outputId": "dd737fb5-d72e-41f4-fca8-51461c64c5bc"
      },
      "source": [
        "def isPrime(x):\n",
        "  if x==2 or x==3:\n",
        "    return True\n",
        "  if x%2==0:\n",
        "    return False\n",
        "  a=3\n",
        "  while(x%a!=0 and a*a<=x):\n",
        "    a=a+2\n",
        "  if(x%a==0):\n",
        "    return False\n",
        "  else:\n",
        "    return True\n",
        "\n",
        "isPrime(int(input()))"
      ],
      "execution_count": null,
      "outputs": [
        {
          "output_type": "stream",
          "text": [
            "29\n"
          ],
          "name": "stdout"
        },
        {
          "output_type": "execute_result",
          "data": {
            "text/plain": [
              "True"
            ]
          },
          "metadata": {
            "tags": []
          },
          "execution_count": 40
        }
      ]
    },
    {
      "cell_type": "code",
      "metadata": {
        "id": "Ktq3z6kcc9Qd",
        "colab_type": "code",
        "colab": {
          "base_uri": "https://localhost:8080/",
          "height": 34
        },
        "outputId": "bb885663-832c-4adc-8320-abe599af51da"
      },
      "source": [
        "def func():\n",
        "  c=0\n",
        "  for x in range(1, 1000):\n",
        "    if x%3==0 or x%5==0:\n",
        "      c=c+x\n",
        "  return c\n",
        "\n",
        "print(func())"
      ],
      "execution_count": null,
      "outputs": [
        {
          "output_type": "stream",
          "text": [
            "233168\n"
          ],
          "name": "stdout"
        }
      ]
    },
    {
      "cell_type": "code",
      "metadata": {
        "id": "oGTl2DyNO0D3",
        "colab_type": "code",
        "colab": {
          "base_uri": "https://localhost:8080/",
          "height": 34
        },
        "outputId": "18aa18dc-3613-49d8-e77d-d601d0e225c9"
      },
      "source": [
        "s=\"qqqprpqcccaa\"\n",
        "a=\"\"\n",
        "ss=\"\"\n",
        "c=0\n",
        "for x in s:\n",
        "  if a!=x :\n",
        "    if c>1:\n",
        "      ss=ss+str(c)+a\n",
        "    elif c==1:\n",
        "      ss=ss+a\n",
        "    a=x\n",
        "    c=1\n",
        "  else:\n",
        "    c=c+1\n",
        "if c>1:\n",
        "  ss=ss+str(c)+a\n",
        "elif c==1:\n",
        "  ss=ss+a\n",
        "print(ss)\n"
      ],
      "execution_count": null,
      "outputs": [
        {
          "output_type": "stream",
          "text": [
            "3qprq3c2a\n"
          ],
          "name": "stdout"
        }
      ]
    },
    {
      "cell_type": "code",
      "metadata": {
        "id": "lrSjYUEORPLl",
        "colab_type": "code",
        "colab": {
          "base_uri": "https://localhost:8080/",
          "height": 34
        },
        "outputId": "230b4f5a-0181-45ca-e82c-df18fe270ae2"
      },
      "source": [
        "def paren(s):\n",
        "  c=0\n",
        "  rc=0\n",
        "  t=True\n",
        "  for x in s:\n",
        "    if x=='(':\n",
        "      c=c+1\n",
        "    else:\n",
        "      rc=rc+1\n",
        "    if c<rc:\n",
        "      t=False\n",
        "  if rc!=c:\n",
        "    t=False\n",
        "  return t\n",
        "s=\"(()((()()()())))\"\n",
        "print(paren(s))"
      ],
      "execution_count": null,
      "outputs": [
        {
          "output_type": "stream",
          "text": [
            "False\n"
          ],
          "name": "stdout"
        }
      ]
    },
    {
      "cell_type": "code",
      "metadata": {
        "id": "MyGvfWcoTOdw",
        "colab_type": "code",
        "colab": {
          "base_uri": "https://localhost:8080/",
          "height": 34
        },
        "outputId": "869097f2-e964-4667-b378-0ef9a5a8693b"
      },
      "source": [
        "def anag(l):\n",
        "  ll=[]\n",
        "  for x in l:\n",
        "    c=1\n",
        "    if(ll==[]):\n",
        "      ll.append([x])\n",
        "      c=0\n",
        "    else:\n",
        "      for y in ll:\n",
        "        if sorted(x)==sorted(y[0]):\n",
        "          y.append(x)\n",
        "          c=0\n",
        "    if c==1:\n",
        "      ll.append([x])\n",
        "  return ll\n",
        "    \n",
        "l=[\"eat\", \"ate\", \"tan\", \"tea\", \"nat\", \"bat\"]\n",
        "print(anag(l))"
      ],
      "execution_count": null,
      "outputs": [
        {
          "output_type": "stream",
          "text": [
            "[['eat', 'ate', 'tea'], ['tan', 'nat'], ['bat']]\n"
          ],
          "name": "stdout"
        }
      ]
    },
    {
      "cell_type": "markdown",
      "metadata": {
        "id": "9rVMhZ0lz7ow",
        "colab_type": "text"
      },
      "source": [
        "### Q1. Use Higher Order Function which takes  \n",
        "###      [[1, 2], [3, 4], [ ], [5], [2,3]]  \n",
        "###      output : [1, 2, 3, 4, 5, 2, 3]"
      ]
    },
    {
      "cell_type": "code",
      "metadata": {
        "id": "__Mj6su11gG9",
        "colab_type": "code",
        "colab": {
          "base_uri": "https://localhost:8080/",
          "height": 34
        },
        "outputId": "f9ef2eb8-c07f-421a-f31a-8fc144774554"
      },
      "source": [
        "def higher_order(l, f):\n",
        "  z=[]\n",
        "  for x in l:\n",
        "    for y in x:\n",
        "      z.append(y)\n",
        "  f(z)\n",
        "\n",
        "l=[[1, 2], [3, 4], [ ], [5], [2,3]]\n",
        "higher_order(l, print)"
      ],
      "execution_count": null,
      "outputs": [
        {
          "output_type": "stream",
          "text": [
            "[1, 2, 3, 4, 5, 2, 3]\n"
          ],
          "name": "stdout"
        }
      ]
    },
    {
      "cell_type": "markdown",
      "metadata": {
        "id": "HL-H72NT1IVq",
        "colab_type": "text"
      },
      "source": [
        "### Q2. Define a strong_number function which checks given number is a strong number. Use this function to pass into strong_number_list(list, strong_number) which prints strongs numbers in a given list."
      ]
    },
    {
      "cell_type": "code",
      "metadata": {
        "id": "PmkIrxuy1jSc",
        "colab_type": "code",
        "colab": {
          "base_uri": "https://localhost:8080/",
          "height": 84
        },
        "outputId": "c12e69b1-7c42-4fb9-a0d1-1894bc8c282b"
      },
      "source": [
        "def strong_number(a):\n",
        "  b=0\n",
        "  a=str(a)\n",
        "  for x in a:\n",
        "    b=b+c[int(x)]\n",
        "  if(b==int(a)):\n",
        "    return True\n",
        "  else:\n",
        "    return False\n",
        "\n",
        "def strong_number_list(l, f):\n",
        "  for x in l:\n",
        "    if(f(x)):\n",
        "      print(x)\n",
        "\n",
        "import numpy as np\n",
        "l=np.arange(1, 100000)\n",
        "c=[1]\n",
        "for x in range(1, 10):\n",
        "  c.append(c[x-1]*x)\n",
        "strong_number_list(l, strong_number)"
      ],
      "execution_count": null,
      "outputs": [
        {
          "output_type": "stream",
          "text": [
            "1\n",
            "2\n",
            "145\n",
            "40585\n"
          ],
          "name": "stdout"
        }
      ]
    },
    {
      "cell_type": "markdown",
      "metadata": {
        "id": "YG_jq2ZF-0Cb",
        "colab_type": "text"
      },
      "source": [
        "### Q3.Example piecewise function,\n",
        "###f(x) = $\n",
        "\\cases{\n",
        "x^2      &   $x\\lt 1 $\\cr\n",
        "3-x     &   $x\\ge 1$\n",
        "}$\n",
        "\n"
      ]
    },
    {
      "cell_type": "code",
      "metadata": {
        "id": "L7WT3o8XO04J",
        "colab_type": "code",
        "colab": {
          "base_uri": "https://localhost:8080/",
          "height": 34
        },
        "outputId": "17198a2f-2f58-4a12-f602-5964d1df96ac"
      },
      "source": [
        "def piecewise(lower_func, upper_func, cutoff):\n",
        "  def f(x):\n",
        "    if x < cutoff:\n",
        "      return lower_func(x)\n",
        "    else:\n",
        "      return upper_func(x)\n",
        "  return f\n",
        "\n",
        "p=lambda x: x*x\n",
        "q=lambda x: 3-x\n",
        "x=1            #input\n",
        "\n",
        "print(piecewise(p, q, 1)(x))\n",
        "\n",
        "#Execute piecewise function parmameters using anonymous lambda functions and a cutoff vaulue as 1 \n",
        "#Expected Output\n",
        " #f(0.5)  is  0.16  after rounded to two decimal points\n",
        " #f(5)   is -2"
      ],
      "execution_count": null,
      "outputs": [
        {
          "output_type": "stream",
          "text": [
            "2\n"
          ],
          "name": "stdout"
        }
      ]
    },
    {
      "cell_type": "markdown",
      "metadata": {
        "id": "cEBfZ9dJRpOR",
        "colab_type": "text"
      },
      "source": [
        "### Q4. Write Function which returns, not the first, but the last element in the list that is divisible by the parameter divisor."
      ]
    },
    {
      "cell_type": "code",
      "metadata": {
        "id": "NzhheS1XRvmP",
        "colab_type": "code",
        "colab": {
          "base_uri": "https://localhost:8080/",
          "height": 34
        },
        "outputId": "24bdcb8d-3fb6-4fb1-eb71-bcac20705bf8"
      },
      "source": [
        "def func(x, l):\n",
        "  z=list(filter(lambda a: a%x==0, l))\n",
        "  return reduce(lambda a,b: b, z)\n",
        "\n",
        "from functools import reduce\n",
        "l=[x for x in range(1,101)]\n",
        "print(func(17, l))"
      ],
      "execution_count": null,
      "outputs": [
        {
          "output_type": "stream",
          "text": [
            "85\n"
          ],
          "name": "stdout"
        }
      ]
    },
    {
      "cell_type": "markdown",
      "metadata": {
        "id": "zbuVSZpNSfTI",
        "colab_type": "text"
      },
      "source": [
        "### Q5. Complete  the  following  function  definition  so  that  it  finds  the  first  pair  of adjacent items in the input list that are in descending order, and returns the index of the first element of the pair. If there is no such pair, it returns None.  Example:\n"
      ]
    },
    {
      "cell_type": "code",
      "metadata": {
        "id": "eg3d-bvASkXZ",
        "colab_type": "code",
        "colab": {
          "base_uri": "https://localhost:8080/",
          "height": 50
        },
        "outputId": "3663de9c-ec95-480e-e5fe-a7705ab5683d"
      },
      "source": [
        "#pair_search([1,3,4,6,8,7,6])\n",
        "#output   4\n",
        "def pair_search(l):\n",
        "  for i in range(0, len(l)-1):\n",
        "    if(l[i]>l[i+1]):\n",
        "      return i\n",
        "\n",
        "def pair_search_hf(l):\n",
        "  z=list(map(lambda x, y: x<y, l, l[1:]))\n",
        "  for i in range(len(z)):\n",
        "    if(z[i]==False):\n",
        "      return i\n",
        "\n",
        "l=[1,3,4,6,8,7,6]\n",
        "print(pair_search(l))\n",
        "print(pair_search_hf(l))\n"
      ],
      "execution_count": null,
      "outputs": [
        {
          "output_type": "stream",
          "text": [
            "4\n",
            "4\n"
          ],
          "name": "stdout"
        }
      ]
    },
    {
      "cell_type": "markdown",
      "metadata": {
        "id": "v02A3rgEQjwF",
        "colab_type": "text"
      },
      "source": [
        "## Numpy"
      ]
    },
    {
      "cell_type": "markdown",
      "metadata": {
        "id": "b9SVflglRDWk",
        "colab_type": "text"
      },
      "source": [
        "\n",
        "### Exercise 01: Form an array using np.arange which contains all even numbers. 10 to 30\n"
      ]
    },
    {
      "cell_type": "code",
      "metadata": {
        "id": "l32CNHMX6bH5",
        "colab_type": "code",
        "colab": {
          "base_uri": "https://localhost:8080/",
          "height": 34
        },
        "outputId": "e3ba6b51-fe9b-4f18-fe4a-2ed660d61eeb"
      },
      "source": [
        "import numpy as np\n",
        "a=np.array(np.arange(10, 31, 2))\n",
        "print(a)"
      ],
      "execution_count": null,
      "outputs": [
        {
          "output_type": "stream",
          "text": [
            "[10 12 14 16 18 20 22 24 26 28 30]\n"
          ],
          "name": "stdout"
        }
      ]
    },
    {
      "cell_type": "markdown",
      "metadata": {
        "id": "9fMPdoYO_6TX",
        "colab_type": "text"
      },
      "source": [
        "### Exercise 02: Create an array of evenly spaced numbers upto 24 as one dimentional and reshape it to (2,4,3)"
      ]
    },
    {
      "cell_type": "code",
      "metadata": {
        "id": "dXSX1GNSAFiN",
        "colab_type": "code",
        "colab": {
          "base_uri": "https://localhost:8080/",
          "height": 168
        },
        "outputId": "866cebc0-c657-4ee6-8fc3-9885f7639c4c"
      },
      "source": [
        "import numpy as np\n",
        "a=np.array(np.linspace(0, 24, 24, dtype=int)).reshape(2,4,3)\n",
        "print(a)"
      ],
      "execution_count": null,
      "outputs": [
        {
          "output_type": "stream",
          "text": [
            "[[[ 0  1  2]\n",
            "  [ 3  4  5]\n",
            "  [ 6  7  8]\n",
            "  [ 9 10 11]]\n",
            "\n",
            " [[12 13 14]\n",
            "  [15 16 17]\n",
            "  [18 19 20]\n",
            "  [21 22 24]]]\n"
          ],
          "name": "stdout"
        }
      ]
    },
    {
      "cell_type": "markdown",
      "metadata": {
        "id": "TNt1VdKj7r73",
        "colab_type": "text"
      },
      "source": [
        "### Exercise 03: Get [1, 4, 5] from [[1, 2], [3, 4], [5, 6]] using indexing"
      ]
    },
    {
      "cell_type": "code",
      "metadata": {
        "id": "OaimSeaQ8UaZ",
        "colab_type": "code",
        "colab": {
          "base_uri": "https://localhost:8080/",
          "height": 34
        },
        "outputId": "b78c783e-18d8-4cb1-8403-564e523cce16"
      },
      "source": [
        "import numpy as np\n",
        "a=[[1, 2], [3, 4], [5, 6]]\n",
        "b=np.array([a[0][0], a[1][1], a[2][0]])\n",
        "print(b)"
      ],
      "execution_count": null,
      "outputs": [
        {
          "output_type": "stream",
          "text": [
            "[1 4 5]\n"
          ],
          "name": "stdout"
        }
      ]
    },
    {
      "cell_type": "markdown",
      "metadata": {
        "id": "PFbNeshi8GZD",
        "colab_type": "text"
      },
      "source": [
        "### Exercise 04: From the given array [[ 0, 1, 2],[ 3, 4, 5],[ 6, 7, 8],[ 9, 10, 11]] form an array containing elements greater than 5"
      ]
    },
    {
      "cell_type": "code",
      "metadata": {
        "id": "OjN9QYQh8YHR",
        "colab_type": "code",
        "colab": {
          "base_uri": "https://localhost:8080/",
          "height": 34
        },
        "outputId": "cd20f838-d6a2-40a4-8f87-76c15b72d928"
      },
      "source": [
        "import numpy as np\n",
        "a=np.array([[ 0, 1, 2],[ 3, 4, 5],[ 6, 7, 8],[ 9, 10, 11]])\n",
        "b=a[a>5]\n",
        "print(b)"
      ],
      "execution_count": null,
      "outputs": [
        {
          "output_type": "stream",
          "text": [
            "[ 6  7  8  9 10 11]\n"
          ],
          "name": "stdout"
        }
      ]
    },
    {
      "cell_type": "markdown",
      "metadata": {
        "id": "xSRBJNdV8ipU",
        "colab_type": "text"
      },
      "source": [
        "### Exercise 05: Add given two arrays [[ 0.0, 0.0, 0.0],[10.0,10.0,10.0], [20.0,20.0,20.0],[30.0,30.0,30.0]] and [1.0,2.0,3.0]"
      ]
    },
    {
      "cell_type": "code",
      "metadata": {
        "id": "7FE8SmE68p-g",
        "colab_type": "code",
        "colab": {
          "base_uri": "https://localhost:8080/",
          "height": 84
        },
        "outputId": "493a2ed8-cce9-48c3-b6e2-794fe0b19f08"
      },
      "source": [
        "a=np.array([[ 0.0, 0.0, 0.0],[10.0,10.0,10.0], [20.0,20.0,20.0],[30.0,30.0,30.0]])\n",
        "b=np.array([1.0,2.0,3.0])\n",
        "c=np.array([np.add(a, b)], dtype=int)\n",
        "print(c)"
      ],
      "execution_count": null,
      "outputs": [
        {
          "output_type": "stream",
          "text": [
            "[[[ 1  2  3]\n",
            "  [11 12 13]\n",
            "  [21 22 23]\n",
            "  [31 32 33]]]\n"
          ],
          "name": "stdout"
        }
      ]
    },
    {
      "cell_type": "markdown",
      "metadata": {
        "id": "KKd-1aFu8r-q",
        "colab_type": "text"
      },
      "source": [
        "### Exercise 06: Multiplication of two arrays [1, 2, 3, 4] [10, 20, 30, 40]"
      ]
    },
    {
      "cell_type": "code",
      "metadata": {
        "id": "J99PVyJp83Ov",
        "colab_type": "code",
        "colab": {
          "base_uri": "https://localhost:8080/",
          "height": 34
        },
        "outputId": "441c952a-45ae-4011-b9fc-9b4aeb3edd3b"
      },
      "source": [
        "a=np.array([1, 2, 3, 4])\n",
        "b=np.array([10, 20, 30, 40])\n",
        "print(a*b)"
      ],
      "execution_count": null,
      "outputs": [
        {
          "output_type": "stream",
          "text": [
            "[ 10  40  90 160]\n"
          ],
          "name": "stdout"
        }
      ]
    },
    {
      "cell_type": "markdown",
      "metadata": {
        "id": "Y5ymkBwlcTdv",
        "colab_type": "text"
      },
      "source": [
        "### Exercise 07: Matrix multiplication for 2-D array"
      ]
    },
    {
      "cell_type": "code",
      "metadata": {
        "id": "EDEXVZnPcfNX",
        "colab_type": "code",
        "colab": {
          "base_uri": "https://localhost:8080/",
          "height": 50
        },
        "outputId": "ab096bc2-0c57-4659-abac-9fa0bad4cc0b"
      },
      "source": [
        "a = np.array([[1, 0],\n",
        "             [0, 1]])\n",
        "\n",
        "b = np.array([[4, 1],\n",
        "              [2, 2]])\n",
        "\n",
        "print(np.dot(a, b))"
      ],
      "execution_count": null,
      "outputs": [
        {
          "output_type": "stream",
          "text": [
            "[[4 1]\n",
            " [2 2]]\n"
          ],
          "name": "stdout"
        }
      ]
    },
    {
      "cell_type": "markdown",
      "metadata": {
        "id": "uGPHkwjo85JM",
        "colab_type": "text"
      },
      "source": [
        "### Exercise 08: Transpose the given array [[0, 1, 2, 3] [4, 5, 6, 7] [8, 9, 10, 11]]"
      ]
    },
    {
      "cell_type": "code",
      "metadata": {
        "id": "rY3h_q3t9Fzk",
        "colab_type": "code",
        "colab": {
          "base_uri": "https://localhost:8080/",
          "height": 67
        },
        "outputId": "67e613dd-72af-4132-e6ff-4dda84d6fcab"
      },
      "source": [
        "a=np.array([[0, 1, 2, 3], [4, 5, 6, 7], [8, 9, 10, 11]])\n",
        "a.transpose()\n",
        "print(a)"
      ],
      "execution_count": null,
      "outputs": [
        {
          "output_type": "stream",
          "text": [
            "[[ 0  1  2  3]\n",
            " [ 4  5  6  7]\n",
            " [ 8  9 10 11]]\n"
          ],
          "name": "stdout"
        }
      ]
    },
    {
      "cell_type": "markdown",
      "metadata": {
        "id": "jaTtufJr9Psc",
        "colab_type": "text"
      },
      "source": [
        "### Exercise 09: Concatenate [[1, 2], [3, 4]] and [[5, 6], [7, 8]] using numpy in axis 1"
      ]
    },
    {
      "cell_type": "code",
      "metadata": {
        "id": "BHk5Qzqe9VZZ",
        "colab_type": "code",
        "colab": {
          "base_uri": "https://localhost:8080/",
          "height": 50
        },
        "outputId": "b6520b61-bce3-4463-9afb-e18baf5255e9"
      },
      "source": [
        "a=np.array([[1, 2], [3, 4]])\n",
        "b=np.array([[5, 6], [7, 8]])\n",
        "a=np.concatenate((a,b),axis=1)\n",
        "print(a)"
      ],
      "execution_count": null,
      "outputs": [
        {
          "output_type": "stream",
          "text": [
            "[[1 2 5 6]\n",
            " [3 4 7 8]]\n"
          ],
          "name": "stdout"
        }
      ]
    },
    {
      "cell_type": "markdown",
      "metadata": {
        "id": "02HOmDBXzPeg",
        "colab_type": "text"
      },
      "source": [
        "### Exercise 10: Given a Multidimensional array find the following,\n",
        "\n",
        "\n",
        "1.   get second and third coloum from the given Multidimensional array\n",
        "2.   get second and third row from the given Multidimensional array\n",
        "3.   and reverse the given Multidimensional array\n"
      ]
    },
    {
      "cell_type": "code",
      "metadata": {
        "id": "XruBP0P4zehS",
        "colab_type": "code",
        "colab": {
          "base_uri": "https://localhost:8080/",
          "height": 151
        },
        "outputId": "7d7af5af-8b7f-4d78-9b86-a4983dd7dba4"
      },
      "source": [
        "import numpy as np\n",
        "array2D = np.array([['a', 'b', 'c'], ['d', 'e', 'f'], ['g', 'h', 'i']])\n",
        "print(array2D[:,1:])\n",
        "print(array2D[1:,:])\n",
        "print(array2D[::-1,::-1])"
      ],
      "execution_count": null,
      "outputs": [
        {
          "output_type": "stream",
          "text": [
            "[['b' 'c']\n",
            " ['e' 'f']\n",
            " ['h' 'i']]\n",
            "[['d' 'e' 'f']\n",
            " ['g' 'h' 'i']]\n",
            "[['i' 'h' 'g']\n",
            " ['f' 'e' 'd']\n",
            " ['c' 'b' 'a']]\n"
          ],
          "name": "stdout"
        }
      ]
    },
    {
      "cell_type": "markdown",
      "metadata": {
        "id": "yEp-gRtO3zOa",
        "colab_type": "text"
      },
      "source": [
        "### Exercise 11: Given a Multidimensional array find the following,\n",
        "\n",
        "\n",
        "1.   What is the average value of the second column \n",
        "2.   Calculate the Mean of the given Multidimensional array\n",
        "\n"
      ]
    },
    {
      "cell_type": "code",
      "metadata": {
        "id": "sPuOB9XpyKKq",
        "colab_type": "code",
        "colab": {
          "base_uri": "https://localhost:8080/",
          "height": 50
        },
        "outputId": "40920be9-d181-4a20-eb02-7cb942f1ea00"
      },
      "source": [
        "import numpy as np\n",
        "array5D = np.array([[174677, 343356, 301717, 224120, 401101],\n",
        "       [140473, 254634, 112262,  25063, 108262],\n",
        "       [375059, 406983, 208947, 115641, 296685],\n",
        "       [444899, 129585, 171318, 313094, 425041],\n",
        "       [476442,  35455, 191553, 384154,  29917]])\n",
        "print(array5D[2].sum())\n",
        "print(int(array5D.mean()))"
      ],
      "execution_count": null,
      "outputs": [
        {
          "output_type": "stream",
          "text": [
            "1403315\n",
            "243617\n"
          ],
          "name": "stdout"
        }
      ]
    },
    {
      "cell_type": "markdown",
      "metadata": {
        "id": "_Q86aJEsXjkQ",
        "colab_type": "text"
      },
      "source": [
        "### Exercise 12: For the given array, get the slice of the first row and display them."
      ]
    },
    {
      "cell_type": "code",
      "metadata": {
        "id": "EhFU_uj5Xic7",
        "colab_type": "code",
        "colab": {
          "base_uri": "https://localhost:8080/",
          "height": 67
        },
        "outputId": "d3e3e2b7-3581-45c9-e978-73ba8a9cb063"
      },
      "source": [
        "import numpy as np\n",
        "array = np.array([[[22, 23, 24], [25, 26, 27], [28, 29, 30]],\n",
        "               [[31, 32, 33], [34, 35, 36], [37, 38, 39]],\n",
        "               [[40, 41, 42], [43, 44, 45], [46, 47, 48]]])\n",
        "\n",
        "print(array[0,:])"
      ],
      "execution_count": null,
      "outputs": [
        {
          "output_type": "stream",
          "text": [
            "[[22 23 24]\n",
            " [25 26 27]\n",
            " [28 29 30]]\n"
          ],
          "name": "stdout"
        }
      ]
    },
    {
      "cell_type": "markdown",
      "metadata": {
        "id": "5SxjQaZEM3W3",
        "colab_type": "text"
      },
      "source": [
        "### Exercise 13: Create a 10x10 array with random values and find minimum number and maximum number along axis 1"
      ]
    },
    {
      "cell_type": "code",
      "metadata": {
        "id": "UuACbe2jNb1b",
        "colab_type": "code",
        "colab": {
          "base_uri": "https://localhost:8080/",
          "height": 252
        },
        "outputId": "9ac3f2d9-7c47-4efb-884e-a6fe833fee0b"
      },
      "source": [
        "import numpy as np\n",
        "a=np.array(np.random.randint(100,size=(10,10)))\n",
        "print(a)\n",
        "print(np.amin(a, axis=0))\n",
        "print(np.amin(a, axis=1))\n",
        "print(np.amax(a, axis=0))\n",
        "print(np.amax(a, axis=1))"
      ],
      "execution_count": null,
      "outputs": [
        {
          "output_type": "stream",
          "text": [
            "[[32 27 84 75 87 18 91 84 73 34]\n",
            " [38 11 18 63 92 51 70 73 55 83]\n",
            " [57 62 22 40  2 26 79 52 80 91]\n",
            " [28 76 91 61 70 17  1 99 17 94]\n",
            " [99 72  5 73 90 46 65 61 99 58]\n",
            " [95 13 65 43 38 74  0 64 83 95]\n",
            " [47 65 91 29 88 61 96 53 34 12]\n",
            " [98 82 32 92 22 56 91 39 73 77]\n",
            " [53 64 95 28  1 80 66 29  6 21]\n",
            " [77 52 18 20 59 25 30 57 26 71]]\n",
            "[28 11  5 20  1 17  0 29  6 12]\n",
            "[18 11  2  1  5  0 12 22  1 18]\n",
            "[99 82 95 92 92 80 96 99 99 95]\n",
            "[91 92 91 99 99 95 96 98 95 77]\n"
          ],
          "name": "stdout"
        }
      ]
    },
    {
      "cell_type": "markdown",
      "metadata": {
        "id": "ctj8hr3XWwBw",
        "colab_type": "text"
      },
      "source": [
        "### Exercise 14: Create an array of the first 20 odd integers"
      ]
    },
    {
      "cell_type": "code",
      "metadata": {
        "id": "rbvkBuRdV558",
        "colab_type": "code",
        "colab": {
          "base_uri": "https://localhost:8080/",
          "height": 34
        },
        "outputId": "4eba97c2-2e2f-4b9c-e26c-a54ed3636fb3"
      },
      "source": [
        "import numpy as np\n",
        "a=np.array(np.arange(1,100, 2))\n",
        "a.resize(20)\n",
        "print(a)"
      ],
      "execution_count": null,
      "outputs": [
        {
          "output_type": "stream",
          "text": [
            "[ 1  3  5  7  9 11 13 15 17 19 21 23 25 27 29 31 33 35 37 39]\n"
          ],
          "name": "stdout"
        }
      ]
    },
    {
      "cell_type": "markdown",
      "metadata": {
        "id": "mOLKxH_SW3Fg",
        "colab_type": "text"
      },
      "source": [
        "### Exercise 15: Create a 5x5 matrix with values 1,2,3,4 just below the diagonal"
      ]
    },
    {
      "cell_type": "code",
      "metadata": {
        "id": "JZ87PPEhW9OF",
        "colab_type": "code",
        "colab": {
          "base_uri": "https://localhost:8080/",
          "height": 101
        },
        "outputId": "73aac399-0b24-4e86-e6f5-4f913f818de8"
      },
      "source": [
        "a=np.zeros((5,5), dtype=int)\n",
        "for i in range(1,5):\n",
        "  a[i, i-1]=i\n",
        "print(a)"
      ],
      "execution_count": null,
      "outputs": [
        {
          "output_type": "stream",
          "text": [
            "[[0 0 0 0 0]\n",
            " [1 0 0 0 0]\n",
            " [0 2 0 0 0]\n",
            " [0 0 3 0 0]\n",
            " [0 0 0 4 0]]\n"
          ],
          "name": "stdout"
        }
      ]
    },
    {
      "cell_type": "markdown",
      "metadata": {
        "id": "kph14lD5XBcm",
        "colab_type": "text"
      },
      "source": [
        "### Exercise 16: 2x+3y=13 3x+y=9 find the value of x and y."
      ]
    },
    {
      "cell_type": "code",
      "metadata": {
        "id": "ZnQk4qTuXEtU",
        "colab_type": "code",
        "colab": {
          "base_uri": "https://localhost:8080/",
          "height": 34
        },
        "outputId": "0175f788-1c8a-4882-bbc2-8455bea70a51"
      },
      "source": [
        "a=np.array([[2, 3],[3, 1]])\n",
        "b=np.array([13, 9])\n",
        "v=np.array(np.dot(np.linalg.inv(a), b), dtype=int)\n",
        "print(\"[x y] is \", v)"
      ],
      "execution_count": null,
      "outputs": [
        {
          "output_type": "stream",
          "text": [
            "[x y] is  [1 3]\n"
          ],
          "name": "stdout"
        }
      ]
    },
    {
      "cell_type": "markdown",
      "metadata": {
        "id": "4mY7BD0PXH5y",
        "colab_type": "text"
      },
      "source": [
        "### Exercise 17: Compute $e^x$, element-wise for a sample array"
      ]
    },
    {
      "cell_type": "code",
      "metadata": {
        "id": "5qCVqKKrXM8j",
        "colab_type": "code",
        "colab": {
          "base_uri": "https://localhost:8080/",
          "height": 34
        },
        "outputId": "0c46d3b0-1f40-4c61-ec70-a912533289a7"
      },
      "source": [
        "a=np.array(np.arange(11))\n",
        "b=np.array(np.exp(a), dtype=int)\n",
        "print(b)"
      ],
      "execution_count": null,
      "outputs": [
        {
          "output_type": "stream",
          "text": [
            "[    1     2     7    20    54   148   403  1096  2980  8103 22026]\n"
          ],
          "name": "stdout"
        }
      ]
    },
    {
      "cell_type": "markdown",
      "metadata": {
        "id": "e5_uG5QyzF95",
        "colab_type": "text"
      },
      "source": [
        "## Pandas"
      ]
    },
    {
      "cell_type": "markdown",
      "metadata": {
        "id": "7DyieCzoGrWG",
        "colab_type": "text"
      },
      "source": [
        "### Data Description:\n",
        "\n",
        "* The dataset is made up of 1016810 rows and 7 columns. \n",
        "\n",
        "* Each line is the data of one student\n",
        "\n",
        "* The seven columns correspond to \n",
        "   - Region Code\n",
        "   - student id\n",
        "   - English marks\n",
        "   - First Language marks\n",
        "   - Math marks\n",
        "   - Science marks\n",
        "   - Social marks\n",
        "* The marks for the students absent  for the exam are sometimes denoted by 'A', sometimes denoted by ' AA', sometimes denoted by 'AAA' and sometimes denoted by 'G'\n",
        "\n",
        "* If the student is not marked as absent but no marks in a subject then he is a supplementary candidate."
      ]
    },
    {
      "cell_type": "markdown",
      "metadata": {
        "id": "wLcx8LeUJfJq",
        "colab_type": "text"
      },
      "source": [
        "#### Exercise 1 :\n",
        "\n",
        "Load the dataset using Pandas and drop all the supplementary candidates from the dataset"
      ]
    },
    {
      "cell_type": "code",
      "metadata": {
        "id": "EnjXfohrKdIx",
        "colab_type": "code",
        "colab": {
          "base_uri": "https://localhost:8080/",
          "height": 404
        },
        "outputId": "08353e47-6e1e-4772-bcd4-121a48c37ea1"
      },
      "source": [
        "import pandas as pd\n",
        "data=pd.read_csv('/content/Data_Munging_SSLC_data.txt', header=None, sep=';')\n",
        "data.dropna()"
      ],
      "execution_count": null,
      "outputs": [
        {
          "output_type": "execute_result",
          "data": {
            "text/html": [
              "<div>\n",
              "<style scoped>\n",
              "    .dataframe tbody tr th:only-of-type {\n",
              "        vertical-align: middle;\n",
              "    }\n",
              "\n",
              "    .dataframe tbody tr th {\n",
              "        vertical-align: top;\n",
              "    }\n",
              "\n",
              "    .dataframe thead th {\n",
              "        text-align: right;\n",
              "    }\n",
              "</style>\n",
              "<table border=\"1\" class=\"dataframe\">\n",
              "  <thead>\n",
              "    <tr style=\"text-align: right;\">\n",
              "      <th></th>\n",
              "      <th>0</th>\n",
              "      <th>1</th>\n",
              "      <th>2</th>\n",
              "      <th>3</th>\n",
              "      <th>4</th>\n",
              "      <th>5</th>\n",
              "      <th>6</th>\n",
              "    </tr>\n",
              "  </thead>\n",
              "  <tbody>\n",
              "    <tr>\n",
              "      <th>0</th>\n",
              "      <td>1</td>\n",
              "      <td>10001</td>\n",
              "      <td>053</td>\n",
              "      <td>036</td>\n",
              "      <td>28</td>\n",
              "      <td>16</td>\n",
              "      <td>44</td>\n",
              "    </tr>\n",
              "    <tr>\n",
              "      <th>1</th>\n",
              "      <td>1</td>\n",
              "      <td>10002</td>\n",
              "      <td>058</td>\n",
              "      <td>037</td>\n",
              "      <td>42</td>\n",
              "      <td>35</td>\n",
              "      <td>40</td>\n",
              "    </tr>\n",
              "    <tr>\n",
              "      <th>2</th>\n",
              "      <td>1</td>\n",
              "      <td>10003</td>\n",
              "      <td>072</td>\n",
              "      <td>056</td>\n",
              "      <td>71</td>\n",
              "      <td>55</td>\n",
              "      <td>70</td>\n",
              "    </tr>\n",
              "    <tr>\n",
              "      <th>3</th>\n",
              "      <td>1</td>\n",
              "      <td>10004</td>\n",
              "      <td>087</td>\n",
              "      <td>064</td>\n",
              "      <td>83</td>\n",
              "      <td>58</td>\n",
              "      <td>65</td>\n",
              "    </tr>\n",
              "    <tr>\n",
              "      <th>4</th>\n",
              "      <td>1</td>\n",
              "      <td>10005</td>\n",
              "      <td>059</td>\n",
              "      <td>045</td>\n",
              "      <td>50</td>\n",
              "      <td>35</td>\n",
              "      <td>48</td>\n",
              "    </tr>\n",
              "    <tr>\n",
              "      <th>...</th>\n",
              "      <td>...</td>\n",
              "      <td>...</td>\n",
              "      <td>...</td>\n",
              "      <td>...</td>\n",
              "      <td>...</td>\n",
              "      <td>...</td>\n",
              "      <td>...</td>\n",
              "    </tr>\n",
              "    <tr>\n",
              "      <th>1016724</th>\n",
              "      <td>65</td>\n",
              "      <td>859657</td>\n",
              "      <td>048</td>\n",
              "      <td>048</td>\n",
              "      <td>53</td>\n",
              "      <td>21</td>\n",
              "      <td>47</td>\n",
              "    </tr>\n",
              "    <tr>\n",
              "      <th>1016749</th>\n",
              "      <td>65</td>\n",
              "      <td>859683</td>\n",
              "      <td>019</td>\n",
              "      <td>027</td>\n",
              "      <td>26</td>\n",
              "      <td>18</td>\n",
              "      <td>35</td>\n",
              "    </tr>\n",
              "    <tr>\n",
              "      <th>1016773</th>\n",
              "      <td>65</td>\n",
              "      <td>859708</td>\n",
              "      <td>019</td>\n",
              "      <td>037</td>\n",
              "      <td>37</td>\n",
              "      <td>13</td>\n",
              "      <td>35</td>\n",
              "    </tr>\n",
              "    <tr>\n",
              "      <th>1016795</th>\n",
              "      <td>65</td>\n",
              "      <td>859730</td>\n",
              "      <td>018</td>\n",
              "      <td>020</td>\n",
              "      <td>25</td>\n",
              "      <td>18</td>\n",
              "      <td>44</td>\n",
              "    </tr>\n",
              "    <tr>\n",
              "      <th>1016804</th>\n",
              "      <td>65</td>\n",
              "      <td>859739</td>\n",
              "      <td>026</td>\n",
              "      <td>021</td>\n",
              "      <td>19</td>\n",
              "      <td>18</td>\n",
              "      <td>37</td>\n",
              "    </tr>\n",
              "  </tbody>\n",
              "</table>\n",
              "<p>936984 rows × 7 columns</p>\n",
              "</div>"
            ],
            "text/plain": [
              "          0       1    2    3    4    5    6\n",
              "0         1   10001  053  036   28   16   44\n",
              "1         1   10002  058  037   42   35   40\n",
              "2         1   10003  072  056   71   55   70\n",
              "3         1   10004  087  064   83   58   65\n",
              "4         1   10005  059  045   50   35   48\n",
              "...      ..     ...  ...  ...  ...  ...  ...\n",
              "1016724  65  859657  048  048   53   21   47\n",
              "1016749  65  859683  019  027   26   18   35\n",
              "1016773  65  859708  019  037   37   13   35\n",
              "1016795  65  859730  018  020   25   18   44\n",
              "1016804  65  859739  026  021   19   18   37\n",
              "\n",
              "[936984 rows x 7 columns]"
            ]
          },
          "metadata": {
            "tags": []
          },
          "execution_count": 16
        }
      ]
    },
    {
      "cell_type": "markdown",
      "metadata": {
        "id": "5uWEzk58znbS",
        "colab_type": "text"
      },
      "source": [
        "### Exercise 2:\n",
        "Display the first and last 5 rows of the data"
      ]
    },
    {
      "cell_type": "code",
      "metadata": {
        "id": "Py_cBUi9yD8d",
        "colab_type": "code",
        "colab": {
          "base_uri": "https://localhost:8080/",
          "height": 217
        },
        "outputId": "bd5b8183-fac7-45a0-fa3a-c47d9e35a9e2"
      },
      "source": [
        "import pandas as pd\n",
        "data=pd.read_csv('/content/Data_Munging_SSLC_data.txt', header=None, sep=';')\n",
        "print(data.head(5))\n",
        "print(data.tail(5))"
      ],
      "execution_count": null,
      "outputs": [
        {
          "output_type": "stream",
          "text": [
            "   0      1    2    3    4    5    6\n",
            "0  1  10001  053  036   28   16   44\n",
            "1  1  10002  058  037   42   35   40\n",
            "2  1  10003  072  056   71   55   70\n",
            "3  1  10004  087  064   83   58   65\n",
            "4  1  10005  059  045   50   35   48\n",
            "          0       1    2    3    4    5    6\n",
            "1016805  65  859740  NaN  NaN  NaN   25  NaN\n",
            "1016806  65  859741  021  NaN   43   19  NaN\n",
            "1016807  65  859742  051  NaN  NaN  NaN  NaN\n",
            "1016808  65  859743  035  NaN  NaN   13  NaN\n",
            "1016809  26  872158  NaN  NaN  NaN  NaN  NaN\n"
          ],
          "name": "stdout"
        }
      ]
    },
    {
      "cell_type": "markdown",
      "metadata": {
        "id": "omQaBoJDKfbf",
        "colab_type": "text"
      },
      "source": [
        "#### Exercise 3 :\n",
        "\n",
        "Standardize the indication  for the absent students. \n",
        "\n",
        "For example replace all absentees notation with  'ABS'"
      ]
    },
    {
      "cell_type": "code",
      "metadata": {
        "id": "phciZzvCLh3J",
        "colab_type": "code",
        "colab": {
          "base_uri": "https://localhost:8080/",
          "height": 404
        },
        "outputId": "1a96782f-e104-42d4-9bb0-a05a73eb76f2"
      },
      "source": [
        "import pandas as pd\n",
        "data=pd.read_csv('/content/Data_Munging_SSLC_data.txt', header=None, sep=';', na_filter=False)\n",
        "for col in data:\n",
        "  data[col]=data[col].replace(['AAA',data[4][21792],data[6][10662],'G'], 'ABS')\n",
        "data[data[2].str.contains('ABS')|data[3].str.contains('ABS')|data[4].str.contains('ABS')|data[5].str.contains('ABS')|data[6].str.contains('ABS')]"
      ],
      "execution_count": null,
      "outputs": [
        {
          "output_type": "execute_result",
          "data": {
            "text/html": [
              "<div>\n",
              "<style scoped>\n",
              "    .dataframe tbody tr th:only-of-type {\n",
              "        vertical-align: middle;\n",
              "    }\n",
              "\n",
              "    .dataframe tbody tr th {\n",
              "        vertical-align: top;\n",
              "    }\n",
              "\n",
              "    .dataframe thead th {\n",
              "        text-align: right;\n",
              "    }\n",
              "</style>\n",
              "<table border=\"1\" class=\"dataframe\">\n",
              "  <thead>\n",
              "    <tr style=\"text-align: right;\">\n",
              "      <th></th>\n",
              "      <th>0</th>\n",
              "      <th>1</th>\n",
              "      <th>2</th>\n",
              "      <th>3</th>\n",
              "      <th>4</th>\n",
              "      <th>5</th>\n",
              "      <th>6</th>\n",
              "    </tr>\n",
              "  </thead>\n",
              "  <tbody>\n",
              "    <tr>\n",
              "      <th>5086</th>\n",
              "      <td>1</td>\n",
              "      <td>15163</td>\n",
              "      <td>083</td>\n",
              "      <td>042</td>\n",
              "      <td>47</td>\n",
              "      <td>ABS</td>\n",
              "      <td>72</td>\n",
              "    </tr>\n",
              "    <tr>\n",
              "      <th>10662</th>\n",
              "      <td>2</td>\n",
              "      <td>20871</td>\n",
              "      <td>045</td>\n",
              "      <td>031</td>\n",
              "      <td>14</td>\n",
              "      <td>20</td>\n",
              "      <td>ABS</td>\n",
              "    </tr>\n",
              "    <tr>\n",
              "      <th>13692</th>\n",
              "      <td>2</td>\n",
              "      <td>23975</td>\n",
              "      <td>049</td>\n",
              "      <td>035</td>\n",
              "      <td>35</td>\n",
              "      <td>ABS</td>\n",
              "      <td>37</td>\n",
              "    </tr>\n",
              "    <tr>\n",
              "      <th>20715</th>\n",
              "      <td>3</td>\n",
              "      <td>31165</td>\n",
              "      <td>ABS</td>\n",
              "      <td>031</td>\n",
              "      <td>26</td>\n",
              "      <td>08</td>\n",
              "      <td>36</td>\n",
              "    </tr>\n",
              "    <tr>\n",
              "      <th>21792</th>\n",
              "      <td>3</td>\n",
              "      <td>32251</td>\n",
              "      <td>062</td>\n",
              "      <td>ABS</td>\n",
              "      <td>ABS</td>\n",
              "      <td>ABS</td>\n",
              "      <td>ABS</td>\n",
              "    </tr>\n",
              "    <tr>\n",
              "      <th>...</th>\n",
              "      <td>...</td>\n",
              "      <td>...</td>\n",
              "      <td>...</td>\n",
              "      <td>...</td>\n",
              "      <td>...</td>\n",
              "      <td>...</td>\n",
              "      <td>...</td>\n",
              "    </tr>\n",
              "    <tr>\n",
              "      <th>1016570</th>\n",
              "      <td>63</td>\n",
              "      <td>858785</td>\n",
              "      <td></td>\n",
              "      <td>ABS</td>\n",
              "      <td>35</td>\n",
              "      <td>ABS</td>\n",
              "      <td>ABS</td>\n",
              "    </tr>\n",
              "    <tr>\n",
              "      <th>1016592</th>\n",
              "      <td>65</td>\n",
              "      <td>859524</td>\n",
              "      <td>032</td>\n",
              "      <td>029</td>\n",
              "      <td>ABS</td>\n",
              "      <td>13</td>\n",
              "      <td></td>\n",
              "    </tr>\n",
              "    <tr>\n",
              "      <th>1016607</th>\n",
              "      <td>65</td>\n",
              "      <td>859539</td>\n",
              "      <td>022</td>\n",
              "      <td></td>\n",
              "      <td></td>\n",
              "      <td>ABS</td>\n",
              "      <td></td>\n",
              "    </tr>\n",
              "    <tr>\n",
              "      <th>1016688</th>\n",
              "      <td>65</td>\n",
              "      <td>859621</td>\n",
              "      <td>ABS</td>\n",
              "      <td>ABS</td>\n",
              "      <td>35</td>\n",
              "      <td>17</td>\n",
              "      <td>ABS</td>\n",
              "    </tr>\n",
              "    <tr>\n",
              "      <th>1016726</th>\n",
              "      <td>65</td>\n",
              "      <td>859659</td>\n",
              "      <td>ABS</td>\n",
              "      <td>041</td>\n",
              "      <td></td>\n",
              "      <td>24</td>\n",
              "      <td>45</td>\n",
              "    </tr>\n",
              "  </tbody>\n",
              "</table>\n",
              "<p>6249 rows × 7 columns</p>\n",
              "</div>"
            ],
            "text/plain": [
              "          0       1    2    3    4    5    6\n",
              "5086      1   15163  083  042   47  ABS   72\n",
              "10662     2   20871  045  031   14   20  ABS\n",
              "13692     2   23975  049  035   35  ABS   37\n",
              "20715     3   31165  ABS  031   26   08   36\n",
              "21792     3   32251  062  ABS  ABS  ABS  ABS\n",
              "...      ..     ...  ...  ...  ...  ...  ...\n",
              "1016570  63  858785       ABS   35  ABS  ABS\n",
              "1016592  65  859524  032  029  ABS   13     \n",
              "1016607  65  859539  022            ABS     \n",
              "1016688  65  859621  ABS  ABS   35   17  ABS\n",
              "1016726  65  859659  ABS  041        24   45\n",
              "\n",
              "[6249 rows x 7 columns]"
            ]
          },
          "metadata": {
            "tags": []
          },
          "execution_count": 121
        }
      ]
    },
    {
      "cell_type": "markdown",
      "metadata": {
        "id": "zRjrEs5BLkQT",
        "colab_type": "text"
      },
      "source": [
        "#### Exercise 4 :\n",
        "\n",
        "Draw a stacked bar plot. Representing regions verus number of students with first class, number of students with second class and number of students with third class. \n",
        "\n",
        "* First class >= 60\n",
        "* Second class >= 50\n",
        "* Third class  >= 40"
      ]
    },
    {
      "cell_type": "code",
      "metadata": {
        "id": "M9W0yig80N34",
        "colab_type": "code",
        "colab": {
          "base_uri": "https://localhost:8080/",
          "height": 461
        },
        "outputId": "5dbd7944-ac15-43ad-e7cb-067f70b83cc1"
      },
      "source": [
        "import pandas as pd\n",
        "data=pd.read_csv('/content/Data_Munging_SSLC_data.txt', header=None, sep=';', na_filter=False)\n",
        "c=[2, 3, 4, 5, 6]\n",
        "for col in c:\n",
        "  data[col]=data[col].replace(['AAA',data[4][21792],data[6][10662],'G', ''], '0')\n",
        "data=data.astype(int)\n",
        "data[7]=data[c].sum(axis=1)\n",
        "data[7]=data[7]/5\n",
        "import numpy as np\n",
        "region=np.array(data[0].unique(), dtype=int)\n",
        "fc=np.array(np.zeros(len(region)), dtype=int)\n",
        "sc=np.array(np.zeros(len(region)), dtype=int)\n",
        "tc=np.array(np.zeros(len(region)), dtype=int)\n",
        "data1=data[data[7]>=60.0]\n",
        "for i in region:\n",
        "  if(i!=68):\n",
        "    fc[i-1]=len(data1[data1[0]==i])\n",
        "  else:\n",
        "    fc[66]=len(data1[data1[0]==68])\n",
        "data1=data[data[7]>=50.0]\n",
        "data1=data1[data1[7]<60.0]\n",
        "for i in region:\n",
        "  if(i!=68):\n",
        "    sc[i-1]=len(data1[data1[0]==i])\n",
        "  else:\n",
        "    sc[66]=len(data1[data1[0]==68])\n",
        "data1=data[data[7]>=40.0]\n",
        "data1=data1[data1[7]<50.0]\n",
        "for i in region:\n",
        "  if(i!=68):\n",
        "    tc[i-1]=len(data1[data1[0]==i])\n",
        "  else:\n",
        "    tc[66]=len(data1[data1[0]==68])\n",
        "import matplotlib.pyplot as plt\n",
        "fig = plt.figure(figsize=(100,10)) \n",
        "p = fig.add_subplot(131)\n",
        "p1=p.bar(region, tc, bottom=None, align='center', width=0.8)\n",
        "p2=p.bar(region, sc, bottom=tc, align='center', width=0.8)\n",
        "p3=p.bar(region, fc, bottom=sc, align='center', width=0.8)\n",
        "plt.ylabel=\"# of Students\"\n",
        "plt.xlabel=\"Regions\"\n",
        "plt.title(\"Region wise student performance stacked bar graph\")\n",
        "plt.yticks(np.arange(0, 30000, 2500))\n",
        "plt.xticks(np.arange(1, 69, 1))\n",
        "plt.legend((p1[0], p2[0], p3[0]), ('tc', 'sc', 'fc'))\n",
        "plt.show()"
      ],
      "execution_count": null,
      "outputs": [
        {
          "output_type": "display_data",
          "data": {
            "image/png": "[encoded data removed]",
            "text/plain": [
              "<Figure size 7200x720 with 1 Axes>"
            ]
          },
          "metadata": {
            "tags": [],
            "needs_background": "light"
          }
        }
      ]
    },
    {
      "cell_type": "markdown",
      "metadata": {
        "id": "QmLcx3UyVCoi",
        "colab_type": "text"
      },
      "source": [
        "## Pandas"
      ]
    },
    {
      "cell_type": "markdown",
      "metadata": {
        "id": "a7yix3imVWJx",
        "colab_type": "text"
      },
      "source": [
        "### Exercise 1: Read the file (samplemoviesdata.csv) into pandas dataframe"
      ]
    },
    {
      "cell_type": "code",
      "metadata": {
        "id": "yjhPKW7KU6Xc",
        "colab_type": "code",
        "colab": {
          "base_uri": "https://localhost:8080/",
          "height": 658
        },
        "outputId": "bffb2d01-5c30-437f-c096-015d0bd9b29d"
      },
      "source": [
        "import pandas as pd\n",
        "data=pd.read_csv('/content/samplemoviedata.csv')"
      ],
      "execution_count": null,
      "outputs": [
        {
          "output_type": "execute_result",
          "data": {
            "text/html": [
              "<div>\n",
              "<style scoped>\n",
              "    .dataframe tbody tr th:only-of-type {\n",
              "        vertical-align: middle;\n",
              "    }\n",
              "\n",
              "    .dataframe tbody tr th {\n",
              "        vertical-align: top;\n",
              "    }\n",
              "\n",
              "    .dataframe thead th {\n",
              "        text-align: right;\n",
              "    }\n",
              "</style>\n",
              "<table border=\"1\" class=\"dataframe\">\n",
              "  <thead>\n",
              "    <tr style=\"text-align: right;\">\n",
              "      <th></th>\n",
              "      <th>color</th>\n",
              "      <th>director_name</th>\n",
              "      <th>num_critic_for_reviews</th>\n",
              "      <th>duration</th>\n",
              "      <th>director_facebook_likes</th>\n",
              "      <th>actor_3_facebook_likes</th>\n",
              "      <th>actor_2_name</th>\n",
              "      <th>actor_1_facebook_likes</th>\n",
              "      <th>gross</th>\n",
              "      <th>genres</th>\n",
              "      <th>actor_1_name</th>\n",
              "      <th>movie_title</th>\n",
              "      <th>num_voted_users</th>\n",
              "      <th>cast_total_facebook_likes</th>\n",
              "      <th>actor_3_name</th>\n",
              "      <th>facenumber_in_poster</th>\n",
              "      <th>plot_keywords</th>\n",
              "      <th>movie_imdb_link</th>\n",
              "      <th>num_user_for_reviews</th>\n",
              "      <th>language</th>\n",
              "      <th>country</th>\n",
              "      <th>content_rating</th>\n",
              "      <th>budget</th>\n",
              "      <th>title_year</th>\n",
              "      <th>actor_2_facebook_likes</th>\n",
              "      <th>imdb_score</th>\n",
              "      <th>aspect_ratio</th>\n",
              "      <th>movie_facebook_likes</th>\n",
              "    </tr>\n",
              "  </thead>\n",
              "  <tbody>\n",
              "    <tr>\n",
              "      <th>0</th>\n",
              "      <td>Color</td>\n",
              "      <td>James Cameron</td>\n",
              "      <td>723.0</td>\n",
              "      <td>178.0</td>\n",
              "      <td>0.0</td>\n",
              "      <td>855.0</td>\n",
              "      <td>Joel David Moore</td>\n",
              "      <td>1000.0</td>\n",
              "      <td>760505847.0</td>\n",
              "      <td>Action|Adventure|Fantasy|Sci-Fi</td>\n",
              "      <td>CCH Pounder</td>\n",
              "      <td>Avatar</td>\n",
              "      <td>886204</td>\n",
              "      <td>4834</td>\n",
              "      <td>Wes Studi</td>\n",
              "      <td>0.0</td>\n",
              "      <td>avatar|future|marine|native|paraplegic</td>\n",
              "      <td>http://www.imdb.com/title/tt0499549/?ref_=fn_t...</td>\n",
              "      <td>3054.0</td>\n",
              "      <td>English</td>\n",
              "      <td>USA</td>\n",
              "      <td>PG-13</td>\n",
              "      <td>237000000.0</td>\n",
              "      <td>2009.0</td>\n",
              "      <td>936.0</td>\n",
              "      <td>7.9</td>\n",
              "      <td>1.78</td>\n",
              "      <td>33000</td>\n",
              "    </tr>\n",
              "    <tr>\n",
              "      <th>1</th>\n",
              "      <td>Color</td>\n",
              "      <td>Gore Verbinski</td>\n",
              "      <td>302.0</td>\n",
              "      <td>169.0</td>\n",
              "      <td>563.0</td>\n",
              "      <td>1000.0</td>\n",
              "      <td>Orlando Bloom</td>\n",
              "      <td>40000.0</td>\n",
              "      <td>309404152.0</td>\n",
              "      <td>Action|Adventure|Fantasy</td>\n",
              "      <td>Johnny Depp</td>\n",
              "      <td>Pirates of the Caribbean: At World's End</td>\n",
              "      <td>471220</td>\n",
              "      <td>48350</td>\n",
              "      <td>Jack Davenport</td>\n",
              "      <td>0.0</td>\n",
              "      <td>goddess|marriage ceremony|marriage proposal|pi...</td>\n",
              "      <td>http://www.imdb.com/title/tt0449088/?ref_=fn_t...</td>\n",
              "      <td>1238.0</td>\n",
              "      <td>English</td>\n",
              "      <td>USA</td>\n",
              "      <td>PG-13</td>\n",
              "      <td>300000000.0</td>\n",
              "      <td>2007.0</td>\n",
              "      <td>5000.0</td>\n",
              "      <td>7.1</td>\n",
              "      <td>2.35</td>\n",
              "      <td>0</td>\n",
              "    </tr>\n",
              "    <tr>\n",
              "      <th>2</th>\n",
              "      <td>Color</td>\n",
              "      <td>Sam Mendes</td>\n",
              "      <td>602.0</td>\n",
              "      <td>148.0</td>\n",
              "      <td>0.0</td>\n",
              "      <td>161.0</td>\n",
              "      <td>Rory Kinnear</td>\n",
              "      <td>11000.0</td>\n",
              "      <td>200074175.0</td>\n",
              "      <td>Action|Adventure|Thriller</td>\n",
              "      <td>Christoph Waltz</td>\n",
              "      <td>Spectre</td>\n",
              "      <td>275868</td>\n",
              "      <td>11700</td>\n",
              "      <td>Stephanie Sigman</td>\n",
              "      <td>1.0</td>\n",
              "      <td>bomb|espionage|sequel|spy|terrorist</td>\n",
              "      <td>http://www.imdb.com/title/tt2379713/?ref_=fn_t...</td>\n",
              "      <td>994.0</td>\n",
              "      <td>English</td>\n",
              "      <td>UK</td>\n",
              "      <td>PG-13</td>\n",
              "      <td>245000000.0</td>\n",
              "      <td>2015.0</td>\n",
              "      <td>393.0</td>\n",
              "      <td>6.8</td>\n",
              "      <td>2.35</td>\n",
              "      <td>85000</td>\n",
              "    </tr>\n",
              "    <tr>\n",
              "      <th>3</th>\n",
              "      <td>Color</td>\n",
              "      <td>Christopher Nolan</td>\n",
              "      <td>813.0</td>\n",
              "      <td>164.0</td>\n",
              "      <td>22000.0</td>\n",
              "      <td>23000.0</td>\n",
              "      <td>Christian Bale</td>\n",
              "      <td>27000.0</td>\n",
              "      <td>448130642.0</td>\n",
              "      <td>Action|Thriller</td>\n",
              "      <td>Tom Hardy</td>\n",
              "      <td>The Dark Knight Rises</td>\n",
              "      <td>1144337</td>\n",
              "      <td>106759</td>\n",
              "      <td>Joseph Gordon-Levitt</td>\n",
              "      <td>0.0</td>\n",
              "      <td>deception|imprisonment|lawlessness|police offi...</td>\n",
              "      <td>http://www.imdb.com/title/tt1345836/?ref_=fn_t...</td>\n",
              "      <td>2701.0</td>\n",
              "      <td>English</td>\n",
              "      <td>USA</td>\n",
              "      <td>PG-13</td>\n",
              "      <td>250000000.0</td>\n",
              "      <td>2012.0</td>\n",
              "      <td>23000.0</td>\n",
              "      <td>8.5</td>\n",
              "      <td>2.35</td>\n",
              "      <td>164000</td>\n",
              "    </tr>\n",
              "    <tr>\n",
              "      <th>4</th>\n",
              "      <td>NaN</td>\n",
              "      <td>Doug Walker</td>\n",
              "      <td>NaN</td>\n",
              "      <td>NaN</td>\n",
              "      <td>131.0</td>\n",
              "      <td>NaN</td>\n",
              "      <td>Rob Walker</td>\n",
              "      <td>131.0</td>\n",
              "      <td>NaN</td>\n",
              "      <td>Documentary</td>\n",
              "      <td>Doug Walker</td>\n",
              "      <td>Star Wars: Episode VII - The Force Awakens    ...</td>\n",
              "      <td>8</td>\n",
              "      <td>143</td>\n",
              "      <td>NaN</td>\n",
              "      <td>0.0</td>\n",
              "      <td>NaN</td>\n",
              "      <td>http://www.imdb.com/title/tt5289954/?ref_=fn_t...</td>\n",
              "      <td>NaN</td>\n",
              "      <td>NaN</td>\n",
              "      <td>NaN</td>\n",
              "      <td>NaN</td>\n",
              "      <td>NaN</td>\n",
              "      <td>NaN</td>\n",
              "      <td>12.0</td>\n",
              "      <td>7.1</td>\n",
              "      <td>NaN</td>\n",
              "      <td>0</td>\n",
              "    </tr>\n",
              "    <tr>\n",
              "      <th>...</th>\n",
              "      <td>...</td>\n",
              "      <td>...</td>\n",
              "      <td>...</td>\n",
              "      <td>...</td>\n",
              "      <td>...</td>\n",
              "      <td>...</td>\n",
              "      <td>...</td>\n",
              "      <td>...</td>\n",
              "      <td>...</td>\n",
              "      <td>...</td>\n",
              "      <td>...</td>\n",
              "      <td>...</td>\n",
              "      <td>...</td>\n",
              "      <td>...</td>\n",
              "      <td>...</td>\n",
              "      <td>...</td>\n",
              "      <td>...</td>\n",
              "      <td>...</td>\n",
              "      <td>...</td>\n",
              "      <td>...</td>\n",
              "      <td>...</td>\n",
              "      <td>...</td>\n",
              "      <td>...</td>\n",
              "      <td>...</td>\n",
              "      <td>...</td>\n",
              "      <td>...</td>\n",
              "      <td>...</td>\n",
              "      <td>...</td>\n",
              "    </tr>\n",
              "    <tr>\n",
              "      <th>5038</th>\n",
              "      <td>Color</td>\n",
              "      <td>Scott Smith</td>\n",
              "      <td>1.0</td>\n",
              "      <td>87.0</td>\n",
              "      <td>2.0</td>\n",
              "      <td>318.0</td>\n",
              "      <td>Daphne Zuniga</td>\n",
              "      <td>637.0</td>\n",
              "      <td>NaN</td>\n",
              "      <td>Comedy|Drama</td>\n",
              "      <td>Eric Mabius</td>\n",
              "      <td>Signed Sealed Delivered</td>\n",
              "      <td>629</td>\n",
              "      <td>2283</td>\n",
              "      <td>Crystal Lowe</td>\n",
              "      <td>2.0</td>\n",
              "      <td>fraud|postal worker|prison|theft|trial</td>\n",
              "      <td>http://www.imdb.com/title/tt3000844/?ref_=fn_t...</td>\n",
              "      <td>6.0</td>\n",
              "      <td>English</td>\n",
              "      <td>Canada</td>\n",
              "      <td>NaN</td>\n",
              "      <td>NaN</td>\n",
              "      <td>2013.0</td>\n",
              "      <td>470.0</td>\n",
              "      <td>7.7</td>\n",
              "      <td>NaN</td>\n",
              "      <td>84</td>\n",
              "    </tr>\n",
              "    <tr>\n",
              "      <th>5039</th>\n",
              "      <td>Color</td>\n",
              "      <td>NaN</td>\n",
              "      <td>43.0</td>\n",
              "      <td>43.0</td>\n",
              "      <td>NaN</td>\n",
              "      <td>319.0</td>\n",
              "      <td>Valorie Curry</td>\n",
              "      <td>841.0</td>\n",
              "      <td>NaN</td>\n",
              "      <td>Crime|Drama|Mystery|Thriller</td>\n",
              "      <td>Natalie Zea</td>\n",
              "      <td>The Following</td>\n",
              "      <td>73839</td>\n",
              "      <td>1753</td>\n",
              "      <td>Sam Underwood</td>\n",
              "      <td>1.0</td>\n",
              "      <td>cult|fbi|hideout|prison escape|serial killer</td>\n",
              "      <td>http://www.imdb.com/title/tt2071645/?ref_=fn_t...</td>\n",
              "      <td>359.0</td>\n",
              "      <td>English</td>\n",
              "      <td>USA</td>\n",
              "      <td>TV-14</td>\n",
              "      <td>NaN</td>\n",
              "      <td>NaN</td>\n",
              "      <td>593.0</td>\n",
              "      <td>7.5</td>\n",
              "      <td>16.00</td>\n",
              "      <td>32000</td>\n",
              "    </tr>\n",
              "    <tr>\n",
              "      <th>5040</th>\n",
              "      <td>Color</td>\n",
              "      <td>Benjamin Roberds</td>\n",
              "      <td>13.0</td>\n",
              "      <td>76.0</td>\n",
              "      <td>0.0</td>\n",
              "      <td>0.0</td>\n",
              "      <td>Maxwell Moody</td>\n",
              "      <td>0.0</td>\n",
              "      <td>NaN</td>\n",
              "      <td>Drama|Horror|Thriller</td>\n",
              "      <td>Eva Boehnke</td>\n",
              "      <td>A Plague So Pleasant</td>\n",
              "      <td>38</td>\n",
              "      <td>0</td>\n",
              "      <td>David Chandler</td>\n",
              "      <td>0.0</td>\n",
              "      <td>NaN</td>\n",
              "      <td>http://www.imdb.com/title/tt2107644/?ref_=fn_t...</td>\n",
              "      <td>3.0</td>\n",
              "      <td>English</td>\n",
              "      <td>USA</td>\n",
              "      <td>NaN</td>\n",
              "      <td>1400.0</td>\n",
              "      <td>2013.0</td>\n",
              "      <td>0.0</td>\n",
              "      <td>6.3</td>\n",
              "      <td>NaN</td>\n",
              "      <td>16</td>\n",
              "    </tr>\n",
              "    <tr>\n",
              "      <th>5041</th>\n",
              "      <td>Color</td>\n",
              "      <td>Daniel Hsia</td>\n",
              "      <td>14.0</td>\n",
              "      <td>100.0</td>\n",
              "      <td>0.0</td>\n",
              "      <td>489.0</td>\n",
              "      <td>Daniel Henney</td>\n",
              "      <td>946.0</td>\n",
              "      <td>10443.0</td>\n",
              "      <td>Comedy|Drama|Romance</td>\n",
              "      <td>Alan Ruck</td>\n",
              "      <td>Shanghai Calling</td>\n",
              "      <td>1255</td>\n",
              "      <td>2386</td>\n",
              "      <td>Eliza Coupe</td>\n",
              "      <td>5.0</td>\n",
              "      <td>NaN</td>\n",
              "      <td>http://www.imdb.com/title/tt2070597/?ref_=fn_t...</td>\n",
              "      <td>9.0</td>\n",
              "      <td>English</td>\n",
              "      <td>USA</td>\n",
              "      <td>PG-13</td>\n",
              "      <td>NaN</td>\n",
              "      <td>2012.0</td>\n",
              "      <td>719.0</td>\n",
              "      <td>6.3</td>\n",
              "      <td>2.35</td>\n",
              "      <td>660</td>\n",
              "    </tr>\n",
              "    <tr>\n",
              "      <th>5042</th>\n",
              "      <td>Color</td>\n",
              "      <td>Jon Gunn</td>\n",
              "      <td>43.0</td>\n",
              "      <td>90.0</td>\n",
              "      <td>16.0</td>\n",
              "      <td>16.0</td>\n",
              "      <td>Brian Herzlinger</td>\n",
              "      <td>86.0</td>\n",
              "      <td>85222.0</td>\n",
              "      <td>Documentary</td>\n",
              "      <td>John August</td>\n",
              "      <td>My Date with Drew</td>\n",
              "      <td>4285</td>\n",
              "      <td>163</td>\n",
              "      <td>Jon Gunn</td>\n",
              "      <td>0.0</td>\n",
              "      <td>actress name in title|crush|date|four word tit...</td>\n",
              "      <td>http://www.imdb.com/title/tt0378407/?ref_=fn_t...</td>\n",
              "      <td>84.0</td>\n",
              "      <td>English</td>\n",
              "      <td>USA</td>\n",
              "      <td>PG</td>\n",
              "      <td>1100.0</td>\n",
              "      <td>2004.0</td>\n",
              "      <td>23.0</td>\n",
              "      <td>6.6</td>\n",
              "      <td>1.85</td>\n",
              "      <td>456</td>\n",
              "    </tr>\n",
              "  </tbody>\n",
              "</table>\n",
              "<p>5043 rows × 28 columns</p>\n",
              "</div>"
            ],
            "text/plain": [
              "      color      director_name  ...  aspect_ratio  movie_facebook_likes\n",
              "0     Color      James Cameron  ...          1.78                 33000\n",
              "1     Color     Gore Verbinski  ...          2.35                     0\n",
              "2     Color         Sam Mendes  ...          2.35                 85000\n",
              "3     Color  Christopher Nolan  ...          2.35                164000\n",
              "4       NaN        Doug Walker  ...           NaN                     0\n",
              "...     ...                ...  ...           ...                   ...\n",
              "5038  Color        Scott Smith  ...           NaN                    84\n",
              "5039  Color                NaN  ...         16.00                 32000\n",
              "5040  Color   Benjamin Roberds  ...           NaN                    16\n",
              "5041  Color        Daniel Hsia  ...          2.35                   660\n",
              "5042  Color           Jon Gunn  ...          1.85                   456\n",
              "\n",
              "[5043 rows x 28 columns]"
            ]
          },
          "metadata": {
            "tags": []
          },
          "execution_count": 142
        }
      ]
    },
    {
      "cell_type": "markdown",
      "metadata": {
        "id": "Y5sTJNlOVbHp",
        "colab_type": "text"
      },
      "source": [
        "### Exercise 2: print the full summary of the dataframe"
      ]
    },
    {
      "cell_type": "code",
      "metadata": {
        "id": "Lo0uuLVRVk5y",
        "colab_type": "code",
        "colab": {
          "base_uri": "https://localhost:8080/",
          "height": 736
        },
        "outputId": "ed95420d-2e78-4040-bf23-95f249cd8948"
      },
      "source": [
        "print(data.describe())\n",
        "print(data.info())"
      ],
      "execution_count": null,
      "outputs": [
        {
          "output_type": "stream",
          "text": [
            "        color director_name  ... aspect_ratio movie_facebook_likes\n",
            "count    5043          5043  ...         5043                 5043\n",
            "unique      3          2399  ...           23                  876\n",
            "top     Color           nan  ...         2.35                    0\n",
            "freq     4815           104  ...         2360                 2181\n",
            "\n",
            "[4 rows x 28 columns]\n",
            "<class 'pandas.core.frame.DataFrame'>\n",
            "RangeIndex: 5043 entries, 0 to 5042\n",
            "Data columns (total 28 columns):\n",
            " #   Column                     Non-Null Count  Dtype \n",
            "---  ------                     --------------  ----- \n",
            " 0   color                      5043 non-null   object\n",
            " 1   director_name              5043 non-null   object\n",
            " 2   num_critic_for_reviews     5043 non-null   object\n",
            " 3   duration                   5043 non-null   object\n",
            " 4   director_facebook_likes    5043 non-null   object\n",
            " 5   actor_3_facebook_likes     5043 non-null   object\n",
            " 6   actor_2_name               5043 non-null   object\n",
            " 7   actor_1_facebook_likes     5043 non-null   object\n",
            " 8   gross                      5043 non-null   object\n",
            " 9   genres                     5043 non-null   object\n",
            " 10  actor_1_name               5043 non-null   object\n",
            " 11  movie_title                5043 non-null   object\n",
            " 12  num_voted_users            5043 non-null   object\n",
            " 13  cast_total_facebook_likes  5043 non-null   object\n",
            " 14  actor_3_name               5043 non-null   object\n",
            " 15  facenumber_in_poster       5043 non-null   object\n",
            " 16  plot_keywords              5043 non-null   object\n",
            " 17  movie_imdb_link            5043 non-null   object\n",
            " 18  num_user_for_reviews       5043 non-null   object\n",
            " 19  language                   5043 non-null   object\n",
            " 20  country                    5043 non-null   object\n",
            " 21  content_rating             5043 non-null   object\n",
            " 22  budget                     5043 non-null   object\n",
            " 23  title_year                 5043 non-null   object\n",
            " 24  actor_2_facebook_likes     5043 non-null   object\n",
            " 25  imdb_score                 5043 non-null   object\n",
            " 26  aspect_ratio               5043 non-null   object\n",
            " 27  movie_facebook_likes       5043 non-null   object\n",
            "dtypes: object(28)\n",
            "memory usage: 1.1+ MB\n",
            "None\n"
          ],
          "name": "stdout"
        }
      ]
    },
    {
      "cell_type": "markdown",
      "metadata": {
        "id": "Gi16ufjDVm8N",
        "colab_type": "text"
      },
      "source": [
        "### Exercise 3: Remove information of the movie which doesn’t have information on when the movie came out"
      ]
    },
    {
      "cell_type": "code",
      "metadata": {
        "id": "aEJOtrdqVs--",
        "colab_type": "code",
        "colab": {
          "base_uri": "https://localhost:8080/",
          "height": 251
        },
        "outputId": "dcbccbea-0d38-4b36-c49f-63f3a6301b51"
      },
      "source": [
        "import pandas as pd\n",
        "data=pd.read_csv('/content/samplemoviedata.csv', na_filter=False)\n",
        "print(data[data['title_year']!=''])"
      ],
      "execution_count": null,
      "outputs": [
        {
          "output_type": "stream",
          "text": [
            "      color      director_name  ... aspect_ratio movie_facebook_likes\n",
            "0     Color      James Cameron  ...         1.78                33000\n",
            "1     Color     Gore Verbinski  ...         2.35                    0\n",
            "2     Color         Sam Mendes  ...         2.35                85000\n",
            "3     Color  Christopher Nolan  ...         2.35               164000\n",
            "5     Color     Andrew Stanton  ...         2.35                24000\n",
            "...     ...                ...  ...          ...                  ...\n",
            "5037  Color       Edward Burns  ...                               413\n",
            "5038  Color        Scott Smith  ...                                84\n",
            "5040  Color   Benjamin Roberds  ...                                16\n",
            "5041  Color        Daniel Hsia  ...         2.35                  660\n",
            "5042  Color           Jon Gunn  ...         1.85                  456\n",
            "\n",
            "[4935 rows x 28 columns]\n"
          ],
          "name": "stdout"
        }
      ]
    },
    {
      "cell_type": "markdown",
      "metadata": {
        "id": "xzEHdi5kVuv_",
        "colab_type": "text"
      },
      "source": [
        "### Exercise 4: Change all movie titles to uppercase"
      ]
    },
    {
      "cell_type": "code",
      "metadata": {
        "id": "bhdFl6WiVzNA",
        "colab_type": "code",
        "colab": {
          "base_uri": "https://localhost:8080/",
          "height": 776
        },
        "outputId": "65fbd8bc-18d0-403c-8470-f1a1c473bdae"
      },
      "source": [
        "import pandas as pd\n",
        "data=pd.read_csv('/content/samplemoviedata.csv')\n",
        "data['movie_title']=data['movie_title'].str.upper()\n",
        "data"
      ],
      "execution_count": null,
      "outputs": [
        {
          "output_type": "execute_result",
          "data": {
            "text/html": [
              "<div>\n",
              "<style scoped>\n",
              "    .dataframe tbody tr th:only-of-type {\n",
              "        vertical-align: middle;\n",
              "    }\n",
              "\n",
              "    .dataframe tbody tr th {\n",
              "        vertical-align: top;\n",
              "    }\n",
              "\n",
              "    .dataframe thead th {\n",
              "        text-align: right;\n",
              "    }\n",
              "</style>\n",
              "<table border=\"1\" class=\"dataframe\">\n",
              "  <thead>\n",
              "    <tr style=\"text-align: right;\">\n",
              "      <th></th>\n",
              "      <th>color</th>\n",
              "      <th>director_name</th>\n",
              "      <th>num_critic_for_reviews</th>\n",
              "      <th>duration</th>\n",
              "      <th>director_facebook_likes</th>\n",
              "      <th>actor_3_facebook_likes</th>\n",
              "      <th>actor_2_name</th>\n",
              "      <th>actor_1_facebook_likes</th>\n",
              "      <th>gross</th>\n",
              "      <th>genres</th>\n",
              "      <th>actor_1_name</th>\n",
              "      <th>movie_title</th>\n",
              "      <th>num_voted_users</th>\n",
              "      <th>cast_total_facebook_likes</th>\n",
              "      <th>actor_3_name</th>\n",
              "      <th>facenumber_in_poster</th>\n",
              "      <th>plot_keywords</th>\n",
              "      <th>movie_imdb_link</th>\n",
              "      <th>num_user_for_reviews</th>\n",
              "      <th>language</th>\n",
              "      <th>country</th>\n",
              "      <th>content_rating</th>\n",
              "      <th>budget</th>\n",
              "      <th>title_year</th>\n",
              "      <th>actor_2_facebook_likes</th>\n",
              "      <th>imdb_score</th>\n",
              "      <th>aspect_ratio</th>\n",
              "      <th>movie_facebook_likes</th>\n",
              "    </tr>\n",
              "  </thead>\n",
              "  <tbody>\n",
              "    <tr>\n",
              "      <th>0</th>\n",
              "      <td>Color</td>\n",
              "      <td>James Cameron</td>\n",
              "      <td>723.0</td>\n",
              "      <td>178.0</td>\n",
              "      <td>0.0</td>\n",
              "      <td>855.0</td>\n",
              "      <td>Joel David Moore</td>\n",
              "      <td>1000.0</td>\n",
              "      <td>760505847.0</td>\n",
              "      <td>Action|Adventure|Fantasy|Sci-Fi</td>\n",
              "      <td>CCH Pounder</td>\n",
              "      <td>AVATAR</td>\n",
              "      <td>886204</td>\n",
              "      <td>4834</td>\n",
              "      <td>Wes Studi</td>\n",
              "      <td>0.0</td>\n",
              "      <td>avatar|future|marine|native|paraplegic</td>\n",
              "      <td>http://www.imdb.com/title/tt0499549/?ref_=fn_t...</td>\n",
              "      <td>3054.0</td>\n",
              "      <td>English</td>\n",
              "      <td>USA</td>\n",
              "      <td>PG-13</td>\n",
              "      <td>237000000.0</td>\n",
              "      <td>2009.0</td>\n",
              "      <td>936.0</td>\n",
              "      <td>7.9</td>\n",
              "      <td>1.78</td>\n",
              "      <td>33000</td>\n",
              "    </tr>\n",
              "    <tr>\n",
              "      <th>1</th>\n",
              "      <td>Color</td>\n",
              "      <td>Gore Verbinski</td>\n",
              "      <td>302.0</td>\n",
              "      <td>169.0</td>\n",
              "      <td>563.0</td>\n",
              "      <td>1000.0</td>\n",
              "      <td>Orlando Bloom</td>\n",
              "      <td>40000.0</td>\n",
              "      <td>309404152.0</td>\n",
              "      <td>Action|Adventure|Fantasy</td>\n",
              "      <td>Johnny Depp</td>\n",
              "      <td>PIRATES OF THE CARIBBEAN: AT WORLD'S END</td>\n",
              "      <td>471220</td>\n",
              "      <td>48350</td>\n",
              "      <td>Jack Davenport</td>\n",
              "      <td>0.0</td>\n",
              "      <td>goddess|marriage ceremony|marriage proposal|pi...</td>\n",
              "      <td>http://www.imdb.com/title/tt0449088/?ref_=fn_t...</td>\n",
              "      <td>1238.0</td>\n",
              "      <td>English</td>\n",
              "      <td>USA</td>\n",
              "      <td>PG-13</td>\n",
              "      <td>300000000.0</td>\n",
              "      <td>2007.0</td>\n",
              "      <td>5000.0</td>\n",
              "      <td>7.1</td>\n",
              "      <td>2.35</td>\n",
              "      <td>0</td>\n",
              "    </tr>\n",
              "    <tr>\n",
              "      <th>2</th>\n",
              "      <td>Color</td>\n",
              "      <td>Sam Mendes</td>\n",
              "      <td>602.0</td>\n",
              "      <td>148.0</td>\n",
              "      <td>0.0</td>\n",
              "      <td>161.0</td>\n",
              "      <td>Rory Kinnear</td>\n",
              "      <td>11000.0</td>\n",
              "      <td>200074175.0</td>\n",
              "      <td>Action|Adventure|Thriller</td>\n",
              "      <td>Christoph Waltz</td>\n",
              "      <td>SPECTRE</td>\n",
              "      <td>275868</td>\n",
              "      <td>11700</td>\n",
              "      <td>Stephanie Sigman</td>\n",
              "      <td>1.0</td>\n",
              "      <td>bomb|espionage|sequel|spy|terrorist</td>\n",
              "      <td>http://www.imdb.com/title/tt2379713/?ref_=fn_t...</td>\n",
              "      <td>994.0</td>\n",
              "      <td>English</td>\n",
              "      <td>UK</td>\n",
              "      <td>PG-13</td>\n",
              "      <td>245000000.0</td>\n",
              "      <td>2015.0</td>\n",
              "      <td>393.0</td>\n",
              "      <td>6.8</td>\n",
              "      <td>2.35</td>\n",
              "      <td>85000</td>\n",
              "    </tr>\n",
              "    <tr>\n",
              "      <th>3</th>\n",
              "      <td>Color</td>\n",
              "      <td>Christopher Nolan</td>\n",
              "      <td>813.0</td>\n",
              "      <td>164.0</td>\n",
              "      <td>22000.0</td>\n",
              "      <td>23000.0</td>\n",
              "      <td>Christian Bale</td>\n",
              "      <td>27000.0</td>\n",
              "      <td>448130642.0</td>\n",
              "      <td>Action|Thriller</td>\n",
              "      <td>Tom Hardy</td>\n",
              "      <td>THE DARK KNIGHT RISES</td>\n",
              "      <td>1144337</td>\n",
              "      <td>106759</td>\n",
              "      <td>Joseph Gordon-Levitt</td>\n",
              "      <td>0.0</td>\n",
              "      <td>deception|imprisonment|lawlessness|police offi...</td>\n",
              "      <td>http://www.imdb.com/title/tt1345836/?ref_=fn_t...</td>\n",
              "      <td>2701.0</td>\n",
              "      <td>English</td>\n",
              "      <td>USA</td>\n",
              "      <td>PG-13</td>\n",
              "      <td>250000000.0</td>\n",
              "      <td>2012.0</td>\n",
              "      <td>23000.0</td>\n",
              "      <td>8.5</td>\n",
              "      <td>2.35</td>\n",
              "      <td>164000</td>\n",
              "    </tr>\n",
              "    <tr>\n",
              "      <th>4</th>\n",
              "      <td>NaN</td>\n",
              "      <td>Doug Walker</td>\n",
              "      <td>NaN</td>\n",
              "      <td>NaN</td>\n",
              "      <td>131.0</td>\n",
              "      <td>NaN</td>\n",
              "      <td>Rob Walker</td>\n",
              "      <td>131.0</td>\n",
              "      <td>NaN</td>\n",
              "      <td>Documentary</td>\n",
              "      <td>Doug Walker</td>\n",
              "      <td>STAR WARS: EPISODE VII - THE FORCE AWAKENS    ...</td>\n",
              "      <td>8</td>\n",
              "      <td>143</td>\n",
              "      <td>NaN</td>\n",
              "      <td>0.0</td>\n",
              "      <td>NaN</td>\n",
              "      <td>http://www.imdb.com/title/tt5289954/?ref_=fn_t...</td>\n",
              "      <td>NaN</td>\n",
              "      <td>NaN</td>\n",
              "      <td>NaN</td>\n",
              "      <td>NaN</td>\n",
              "      <td>NaN</td>\n",
              "      <td>NaN</td>\n",
              "      <td>12.0</td>\n",
              "      <td>7.1</td>\n",
              "      <td>NaN</td>\n",
              "      <td>0</td>\n",
              "    </tr>\n",
              "    <tr>\n",
              "      <th>...</th>\n",
              "      <td>...</td>\n",
              "      <td>...</td>\n",
              "      <td>...</td>\n",
              "      <td>...</td>\n",
              "      <td>...</td>\n",
              "      <td>...</td>\n",
              "      <td>...</td>\n",
              "      <td>...</td>\n",
              "      <td>...</td>\n",
              "      <td>...</td>\n",
              "      <td>...</td>\n",
              "      <td>...</td>\n",
              "      <td>...</td>\n",
              "      <td>...</td>\n",
              "      <td>...</td>\n",
              "      <td>...</td>\n",
              "      <td>...</td>\n",
              "      <td>...</td>\n",
              "      <td>...</td>\n",
              "      <td>...</td>\n",
              "      <td>...</td>\n",
              "      <td>...</td>\n",
              "      <td>...</td>\n",
              "      <td>...</td>\n",
              "      <td>...</td>\n",
              "      <td>...</td>\n",
              "      <td>...</td>\n",
              "      <td>...</td>\n",
              "    </tr>\n",
              "    <tr>\n",
              "      <th>5038</th>\n",
              "      <td>Color</td>\n",
              "      <td>Scott Smith</td>\n",
              "      <td>1.0</td>\n",
              "      <td>87.0</td>\n",
              "      <td>2.0</td>\n",
              "      <td>318.0</td>\n",
              "      <td>Daphne Zuniga</td>\n",
              "      <td>637.0</td>\n",
              "      <td>NaN</td>\n",
              "      <td>Comedy|Drama</td>\n",
              "      <td>Eric Mabius</td>\n",
              "      <td>SIGNED SEALED DELIVERED</td>\n",
              "      <td>629</td>\n",
              "      <td>2283</td>\n",
              "      <td>Crystal Lowe</td>\n",
              "      <td>2.0</td>\n",
              "      <td>fraud|postal worker|prison|theft|trial</td>\n",
              "      <td>http://www.imdb.com/title/tt3000844/?ref_=fn_t...</td>\n",
              "      <td>6.0</td>\n",
              "      <td>English</td>\n",
              "      <td>Canada</td>\n",
              "      <td>NaN</td>\n",
              "      <td>NaN</td>\n",
              "      <td>2013.0</td>\n",
              "      <td>470.0</td>\n",
              "      <td>7.7</td>\n",
              "      <td>NaN</td>\n",
              "      <td>84</td>\n",
              "    </tr>\n",
              "    <tr>\n",
              "      <th>5039</th>\n",
              "      <td>Color</td>\n",
              "      <td>NaN</td>\n",
              "      <td>43.0</td>\n",
              "      <td>43.0</td>\n",
              "      <td>NaN</td>\n",
              "      <td>319.0</td>\n",
              "      <td>Valorie Curry</td>\n",
              "      <td>841.0</td>\n",
              "      <td>NaN</td>\n",
              "      <td>Crime|Drama|Mystery|Thriller</td>\n",
              "      <td>Natalie Zea</td>\n",
              "      <td>THE FOLLOWING</td>\n",
              "      <td>73839</td>\n",
              "      <td>1753</td>\n",
              "      <td>Sam Underwood</td>\n",
              "      <td>1.0</td>\n",
              "      <td>cult|fbi|hideout|prison escape|serial killer</td>\n",
              "      <td>http://www.imdb.com/title/tt2071645/?ref_=fn_t...</td>\n",
              "      <td>359.0</td>\n",
              "      <td>English</td>\n",
              "      <td>USA</td>\n",
              "      <td>TV-14</td>\n",
              "      <td>NaN</td>\n",
              "      <td>NaN</td>\n",
              "      <td>593.0</td>\n",
              "      <td>7.5</td>\n",
              "      <td>16.00</td>\n",
              "      <td>32000</td>\n",
              "    </tr>\n",
              "    <tr>\n",
              "      <th>5040</th>\n",
              "      <td>Color</td>\n",
              "      <td>Benjamin Roberds</td>\n",
              "      <td>13.0</td>\n",
              "      <td>76.0</td>\n",
              "      <td>0.0</td>\n",
              "      <td>0.0</td>\n",
              "      <td>Maxwell Moody</td>\n",
              "      <td>0.0</td>\n",
              "      <td>NaN</td>\n",
              "      <td>Drama|Horror|Thriller</td>\n",
              "      <td>Eva Boehnke</td>\n",
              "      <td>A PLAGUE SO PLEASANT</td>\n",
              "      <td>38</td>\n",
              "      <td>0</td>\n",
              "      <td>David Chandler</td>\n",
              "      <td>0.0</td>\n",
              "      <td>NaN</td>\n",
              "      <td>http://www.imdb.com/title/tt2107644/?ref_=fn_t...</td>\n",
              "      <td>3.0</td>\n",
              "      <td>English</td>\n",
              "      <td>USA</td>\n",
              "      <td>NaN</td>\n",
              "      <td>1400.0</td>\n",
              "      <td>2013.0</td>\n",
              "      <td>0.0</td>\n",
              "      <td>6.3</td>\n",
              "      <td>NaN</td>\n",
              "      <td>16</td>\n",
              "    </tr>\n",
              "    <tr>\n",
              "      <th>5041</th>\n",
              "      <td>Color</td>\n",
              "      <td>Daniel Hsia</td>\n",
              "      <td>14.0</td>\n",
              "      <td>100.0</td>\n",
              "      <td>0.0</td>\n",
              "      <td>489.0</td>\n",
              "      <td>Daniel Henney</td>\n",
              "      <td>946.0</td>\n",
              "      <td>10443.0</td>\n",
              "      <td>Comedy|Drama|Romance</td>\n",
              "      <td>Alan Ruck</td>\n",
              "      <td>SHANGHAI CALLING</td>\n",
              "      <td>1255</td>\n",
              "      <td>2386</td>\n",
              "      <td>Eliza Coupe</td>\n",
              "      <td>5.0</td>\n",
              "      <td>NaN</td>\n",
              "      <td>http://www.imdb.com/title/tt2070597/?ref_=fn_t...</td>\n",
              "      <td>9.0</td>\n",
              "      <td>English</td>\n",
              "      <td>USA</td>\n",
              "      <td>PG-13</td>\n",
              "      <td>NaN</td>\n",
              "      <td>2012.0</td>\n",
              "      <td>719.0</td>\n",
              "      <td>6.3</td>\n",
              "      <td>2.35</td>\n",
              "      <td>660</td>\n",
              "    </tr>\n",
              "    <tr>\n",
              "      <th>5042</th>\n",
              "      <td>Color</td>\n",
              "      <td>Jon Gunn</td>\n",
              "      <td>43.0</td>\n",
              "      <td>90.0</td>\n",
              "      <td>16.0</td>\n",
              "      <td>16.0</td>\n",
              "      <td>Brian Herzlinger</td>\n",
              "      <td>86.0</td>\n",
              "      <td>85222.0</td>\n",
              "      <td>Documentary</td>\n",
              "      <td>John August</td>\n",
              "      <td>MY DATE WITH DREW</td>\n",
              "      <td>4285</td>\n",
              "      <td>163</td>\n",
              "      <td>Jon Gunn</td>\n",
              "      <td>0.0</td>\n",
              "      <td>actress name in title|crush|date|four word tit...</td>\n",
              "      <td>http://www.imdb.com/title/tt0378407/?ref_=fn_t...</td>\n",
              "      <td>84.0</td>\n",
              "      <td>English</td>\n",
              "      <td>USA</td>\n",
              "      <td>PG</td>\n",
              "      <td>1100.0</td>\n",
              "      <td>2004.0</td>\n",
              "      <td>23.0</td>\n",
              "      <td>6.6</td>\n",
              "      <td>1.85</td>\n",
              "      <td>456</td>\n",
              "    </tr>\n",
              "  </tbody>\n",
              "</table>\n",
              "<p>5043 rows × 28 columns</p>\n",
              "</div>"
            ],
            "text/plain": [
              "      color      director_name  ...  aspect_ratio  movie_facebook_likes\n",
              "0     Color      James Cameron  ...          1.78                 33000\n",
              "1     Color     Gore Verbinski  ...          2.35                     0\n",
              "2     Color         Sam Mendes  ...          2.35                 85000\n",
              "3     Color  Christopher Nolan  ...          2.35                164000\n",
              "4       NaN        Doug Walker  ...           NaN                     0\n",
              "...     ...                ...  ...           ...                   ...\n",
              "5038  Color        Scott Smith  ...           NaN                    84\n",
              "5039  Color                NaN  ...         16.00                 32000\n",
              "5040  Color   Benjamin Roberds  ...           NaN                    16\n",
              "5041  Color        Daniel Hsia  ...          2.35                   660\n",
              "5042  Color           Jon Gunn  ...          1.85                   456\n",
              "\n",
              "[5043 rows x 28 columns]"
            ]
          },
          "metadata": {
            "tags": []
          },
          "execution_count": 167
        }
      ]
    },
    {
      "cell_type": "markdown",
      "metadata": {
        "id": "aaa6WpBEV2pF",
        "colab_type": "text"
      },
      "source": [
        "### Exercise 5: Remove the movie titles trailing whitespaces"
      ]
    },
    {
      "cell_type": "code",
      "metadata": {
        "id": "7HN--1MBV7si",
        "colab_type": "code",
        "colab": {
          "base_uri": "https://localhost:8080/",
          "height": 658
        },
        "outputId": "73dff75f-0e35-4fc4-f75c-88f1a38a4524"
      },
      "source": [
        "import pandas as pd\n",
        "data=pd.read_csv('/content/samplemoviedata.csv')\n",
        "data['movie_title'].str.rstrip()\n",
        "data"
      ],
      "execution_count": null,
      "outputs": [
        {
          "output_type": "execute_result",
          "data": {
            "text/html": [
              "<div>\n",
              "<style scoped>\n",
              "    .dataframe tbody tr th:only-of-type {\n",
              "        vertical-align: middle;\n",
              "    }\n",
              "\n",
              "    .dataframe tbody tr th {\n",
              "        vertical-align: top;\n",
              "    }\n",
              "\n",
              "    .dataframe thead th {\n",
              "        text-align: right;\n",
              "    }\n",
              "</style>\n",
              "<table border=\"1\" class=\"dataframe\">\n",
              "  <thead>\n",
              "    <tr style=\"text-align: right;\">\n",
              "      <th></th>\n",
              "      <th>color</th>\n",
              "      <th>director_name</th>\n",
              "      <th>num_critic_for_reviews</th>\n",
              "      <th>duration</th>\n",
              "      <th>director_facebook_likes</th>\n",
              "      <th>actor_3_facebook_likes</th>\n",
              "      <th>actor_2_name</th>\n",
              "      <th>actor_1_facebook_likes</th>\n",
              "      <th>gross</th>\n",
              "      <th>genres</th>\n",
              "      <th>actor_1_name</th>\n",
              "      <th>movie_title</th>\n",
              "      <th>num_voted_users</th>\n",
              "      <th>cast_total_facebook_likes</th>\n",
              "      <th>actor_3_name</th>\n",
              "      <th>facenumber_in_poster</th>\n",
              "      <th>plot_keywords</th>\n",
              "      <th>movie_imdb_link</th>\n",
              "      <th>num_user_for_reviews</th>\n",
              "      <th>language</th>\n",
              "      <th>country</th>\n",
              "      <th>content_rating</th>\n",
              "      <th>budget</th>\n",
              "      <th>title_year</th>\n",
              "      <th>actor_2_facebook_likes</th>\n",
              "      <th>imdb_score</th>\n",
              "      <th>aspect_ratio</th>\n",
              "      <th>movie_facebook_likes</th>\n",
              "    </tr>\n",
              "  </thead>\n",
              "  <tbody>\n",
              "    <tr>\n",
              "      <th>0</th>\n",
              "      <td>Color</td>\n",
              "      <td>James Cameron</td>\n",
              "      <td>723.0</td>\n",
              "      <td>178.0</td>\n",
              "      <td>0.0</td>\n",
              "      <td>855.0</td>\n",
              "      <td>Joel David Moore</td>\n",
              "      <td>1000.0</td>\n",
              "      <td>760505847.0</td>\n",
              "      <td>Action|Adventure|Fantasy|Sci-Fi</td>\n",
              "      <td>CCH Pounder</td>\n",
              "      <td>Avatar</td>\n",
              "      <td>886204</td>\n",
              "      <td>4834</td>\n",
              "      <td>Wes Studi</td>\n",
              "      <td>0.0</td>\n",
              "      <td>avatar|future|marine|native|paraplegic</td>\n",
              "      <td>http://www.imdb.com/title/tt0499549/?ref_=fn_t...</td>\n",
              "      <td>3054.0</td>\n",
              "      <td>English</td>\n",
              "      <td>USA</td>\n",
              "      <td>PG-13</td>\n",
              "      <td>237000000.0</td>\n",
              "      <td>2009.0</td>\n",
              "      <td>936.0</td>\n",
              "      <td>7.9</td>\n",
              "      <td>1.78</td>\n",
              "      <td>33000</td>\n",
              "    </tr>\n",
              "    <tr>\n",
              "      <th>1</th>\n",
              "      <td>Color</td>\n",
              "      <td>Gore Verbinski</td>\n",
              "      <td>302.0</td>\n",
              "      <td>169.0</td>\n",
              "      <td>563.0</td>\n",
              "      <td>1000.0</td>\n",
              "      <td>Orlando Bloom</td>\n",
              "      <td>40000.0</td>\n",
              "      <td>309404152.0</td>\n",
              "      <td>Action|Adventure|Fantasy</td>\n",
              "      <td>Johnny Depp</td>\n",
              "      <td>Pirates of the Caribbean: At World's End</td>\n",
              "      <td>471220</td>\n",
              "      <td>48350</td>\n",
              "      <td>Jack Davenport</td>\n",
              "      <td>0.0</td>\n",
              "      <td>goddess|marriage ceremony|marriage proposal|pi...</td>\n",
              "      <td>http://www.imdb.com/title/tt0449088/?ref_=fn_t...</td>\n",
              "      <td>1238.0</td>\n",
              "      <td>English</td>\n",
              "      <td>USA</td>\n",
              "      <td>PG-13</td>\n",
              "      <td>300000000.0</td>\n",
              "      <td>2007.0</td>\n",
              "      <td>5000.0</td>\n",
              "      <td>7.1</td>\n",
              "      <td>2.35</td>\n",
              "      <td>0</td>\n",
              "    </tr>\n",
              "    <tr>\n",
              "      <th>2</th>\n",
              "      <td>Color</td>\n",
              "      <td>Sam Mendes</td>\n",
              "      <td>602.0</td>\n",
              "      <td>148.0</td>\n",
              "      <td>0.0</td>\n",
              "      <td>161.0</td>\n",
              "      <td>Rory Kinnear</td>\n",
              "      <td>11000.0</td>\n",
              "      <td>200074175.0</td>\n",
              "      <td>Action|Adventure|Thriller</td>\n",
              "      <td>Christoph Waltz</td>\n",
              "      <td>Spectre</td>\n",
              "      <td>275868</td>\n",
              "      <td>11700</td>\n",
              "      <td>Stephanie Sigman</td>\n",
              "      <td>1.0</td>\n",
              "      <td>bomb|espionage|sequel|spy|terrorist</td>\n",
              "      <td>http://www.imdb.com/title/tt2379713/?ref_=fn_t...</td>\n",
              "      <td>994.0</td>\n",
              "      <td>English</td>\n",
              "      <td>UK</td>\n",
              "      <td>PG-13</td>\n",
              "      <td>245000000.0</td>\n",
              "      <td>2015.0</td>\n",
              "      <td>393.0</td>\n",
              "      <td>6.8</td>\n",
              "      <td>2.35</td>\n",
              "      <td>85000</td>\n",
              "    </tr>\n",
              "    <tr>\n",
              "      <th>3</th>\n",
              "      <td>Color</td>\n",
              "      <td>Christopher Nolan</td>\n",
              "      <td>813.0</td>\n",
              "      <td>164.0</td>\n",
              "      <td>22000.0</td>\n",
              "      <td>23000.0</td>\n",
              "      <td>Christian Bale</td>\n",
              "      <td>27000.0</td>\n",
              "      <td>448130642.0</td>\n",
              "      <td>Action|Thriller</td>\n",
              "      <td>Tom Hardy</td>\n",
              "      <td>The Dark Knight Rises</td>\n",
              "      <td>1144337</td>\n",
              "      <td>106759</td>\n",
              "      <td>Joseph Gordon-Levitt</td>\n",
              "      <td>0.0</td>\n",
              "      <td>deception|imprisonment|lawlessness|police offi...</td>\n",
              "      <td>http://www.imdb.com/title/tt1345836/?ref_=fn_t...</td>\n",
              "      <td>2701.0</td>\n",
              "      <td>English</td>\n",
              "      <td>USA</td>\n",
              "      <td>PG-13</td>\n",
              "      <td>250000000.0</td>\n",
              "      <td>2012.0</td>\n",
              "      <td>23000.0</td>\n",
              "      <td>8.5</td>\n",
              "      <td>2.35</td>\n",
              "      <td>164000</td>\n",
              "    </tr>\n",
              "    <tr>\n",
              "      <th>4</th>\n",
              "      <td>NaN</td>\n",
              "      <td>Doug Walker</td>\n",
              "      <td>NaN</td>\n",
              "      <td>NaN</td>\n",
              "      <td>131.0</td>\n",
              "      <td>NaN</td>\n",
              "      <td>Rob Walker</td>\n",
              "      <td>131.0</td>\n",
              "      <td>NaN</td>\n",
              "      <td>Documentary</td>\n",
              "      <td>Doug Walker</td>\n",
              "      <td>Star Wars: Episode VII - The Force Awakens    ...</td>\n",
              "      <td>8</td>\n",
              "      <td>143</td>\n",
              "      <td>NaN</td>\n",
              "      <td>0.0</td>\n",
              "      <td>NaN</td>\n",
              "      <td>http://www.imdb.com/title/tt5289954/?ref_=fn_t...</td>\n",
              "      <td>NaN</td>\n",
              "      <td>NaN</td>\n",
              "      <td>NaN</td>\n",
              "      <td>NaN</td>\n",
              "      <td>NaN</td>\n",
              "      <td>NaN</td>\n",
              "      <td>12.0</td>\n",
              "      <td>7.1</td>\n",
              "      <td>NaN</td>\n",
              "      <td>0</td>\n",
              "    </tr>\n",
              "    <tr>\n",
              "      <th>...</th>\n",
              "      <td>...</td>\n",
              "      <td>...</td>\n",
              "      <td>...</td>\n",
              "      <td>...</td>\n",
              "      <td>...</td>\n",
              "      <td>...</td>\n",
              "      <td>...</td>\n",
              "      <td>...</td>\n",
              "      <td>...</td>\n",
              "      <td>...</td>\n",
              "      <td>...</td>\n",
              "      <td>...</td>\n",
              "      <td>...</td>\n",
              "      <td>...</td>\n",
              "      <td>...</td>\n",
              "      <td>...</td>\n",
              "      <td>...</td>\n",
              "      <td>...</td>\n",
              "      <td>...</td>\n",
              "      <td>...</td>\n",
              "      <td>...</td>\n",
              "      <td>...</td>\n",
              "      <td>...</td>\n",
              "      <td>...</td>\n",
              "      <td>...</td>\n",
              "      <td>...</td>\n",
              "      <td>...</td>\n",
              "      <td>...</td>\n",
              "    </tr>\n",
              "    <tr>\n",
              "      <th>5038</th>\n",
              "      <td>Color</td>\n",
              "      <td>Scott Smith</td>\n",
              "      <td>1.0</td>\n",
              "      <td>87.0</td>\n",
              "      <td>2.0</td>\n",
              "      <td>318.0</td>\n",
              "      <td>Daphne Zuniga</td>\n",
              "      <td>637.0</td>\n",
              "      <td>NaN</td>\n",
              "      <td>Comedy|Drama</td>\n",
              "      <td>Eric Mabius</td>\n",
              "      <td>Signed Sealed Delivered</td>\n",
              "      <td>629</td>\n",
              "      <td>2283</td>\n",
              "      <td>Crystal Lowe</td>\n",
              "      <td>2.0</td>\n",
              "      <td>fraud|postal worker|prison|theft|trial</td>\n",
              "      <td>http://www.imdb.com/title/tt3000844/?ref_=fn_t...</td>\n",
              "      <td>6.0</td>\n",
              "      <td>English</td>\n",
              "      <td>Canada</td>\n",
              "      <td>NaN</td>\n",
              "      <td>NaN</td>\n",
              "      <td>2013.0</td>\n",
              "      <td>470.0</td>\n",
              "      <td>7.7</td>\n",
              "      <td>NaN</td>\n",
              "      <td>84</td>\n",
              "    </tr>\n",
              "    <tr>\n",
              "      <th>5039</th>\n",
              "      <td>Color</td>\n",
              "      <td>NaN</td>\n",
              "      <td>43.0</td>\n",
              "      <td>43.0</td>\n",
              "      <td>NaN</td>\n",
              "      <td>319.0</td>\n",
              "      <td>Valorie Curry</td>\n",
              "      <td>841.0</td>\n",
              "      <td>NaN</td>\n",
              "      <td>Crime|Drama|Mystery|Thriller</td>\n",
              "      <td>Natalie Zea</td>\n",
              "      <td>The Following</td>\n",
              "      <td>73839</td>\n",
              "      <td>1753</td>\n",
              "      <td>Sam Underwood</td>\n",
              "      <td>1.0</td>\n",
              "      <td>cult|fbi|hideout|prison escape|serial killer</td>\n",
              "      <td>http://www.imdb.com/title/tt2071645/?ref_=fn_t...</td>\n",
              "      <td>359.0</td>\n",
              "      <td>English</td>\n",
              "      <td>USA</td>\n",
              "      <td>TV-14</td>\n",
              "      <td>NaN</td>\n",
              "      <td>NaN</td>\n",
              "      <td>593.0</td>\n",
              "      <td>7.5</td>\n",
              "      <td>16.00</td>\n",
              "      <td>32000</td>\n",
              "    </tr>\n",
              "    <tr>\n",
              "      <th>5040</th>\n",
              "      <td>Color</td>\n",
              "      <td>Benjamin Roberds</td>\n",
              "      <td>13.0</td>\n",
              "      <td>76.0</td>\n",
              "      <td>0.0</td>\n",
              "      <td>0.0</td>\n",
              "      <td>Maxwell Moody</td>\n",
              "      <td>0.0</td>\n",
              "      <td>NaN</td>\n",
              "      <td>Drama|Horror|Thriller</td>\n",
              "      <td>Eva Boehnke</td>\n",
              "      <td>A Plague So Pleasant</td>\n",
              "      <td>38</td>\n",
              "      <td>0</td>\n",
              "      <td>David Chandler</td>\n",
              "      <td>0.0</td>\n",
              "      <td>NaN</td>\n",
              "      <td>http://www.imdb.com/title/tt2107644/?ref_=fn_t...</td>\n",
              "      <td>3.0</td>\n",
              "      <td>English</td>\n",
              "      <td>USA</td>\n",
              "      <td>NaN</td>\n",
              "      <td>1400.0</td>\n",
              "      <td>2013.0</td>\n",
              "      <td>0.0</td>\n",
              "      <td>6.3</td>\n",
              "      <td>NaN</td>\n",
              "      <td>16</td>\n",
              "    </tr>\n",
              "    <tr>\n",
              "      <th>5041</th>\n",
              "      <td>Color</td>\n",
              "      <td>Daniel Hsia</td>\n",
              "      <td>14.0</td>\n",
              "      <td>100.0</td>\n",
              "      <td>0.0</td>\n",
              "      <td>489.0</td>\n",
              "      <td>Daniel Henney</td>\n",
              "      <td>946.0</td>\n",
              "      <td>10443.0</td>\n",
              "      <td>Comedy|Drama|Romance</td>\n",
              "      <td>Alan Ruck</td>\n",
              "      <td>Shanghai Calling</td>\n",
              "      <td>1255</td>\n",
              "      <td>2386</td>\n",
              "      <td>Eliza Coupe</td>\n",
              "      <td>5.0</td>\n",
              "      <td>NaN</td>\n",
              "      <td>http://www.imdb.com/title/tt2070597/?ref_=fn_t...</td>\n",
              "      <td>9.0</td>\n",
              "      <td>English</td>\n",
              "      <td>USA</td>\n",
              "      <td>PG-13</td>\n",
              "      <td>NaN</td>\n",
              "      <td>2012.0</td>\n",
              "      <td>719.0</td>\n",
              "      <td>6.3</td>\n",
              "      <td>2.35</td>\n",
              "      <td>660</td>\n",
              "    </tr>\n",
              "    <tr>\n",
              "      <th>5042</th>\n",
              "      <td>Color</td>\n",
              "      <td>Jon Gunn</td>\n",
              "      <td>43.0</td>\n",
              "      <td>90.0</td>\n",
              "      <td>16.0</td>\n",
              "      <td>16.0</td>\n",
              "      <td>Brian Herzlinger</td>\n",
              "      <td>86.0</td>\n",
              "      <td>85222.0</td>\n",
              "      <td>Documentary</td>\n",
              "      <td>John August</td>\n",
              "      <td>My Date with Drew</td>\n",
              "      <td>4285</td>\n",
              "      <td>163</td>\n",
              "      <td>Jon Gunn</td>\n",
              "      <td>0.0</td>\n",
              "      <td>actress name in title|crush|date|four word tit...</td>\n",
              "      <td>http://www.imdb.com/title/tt0378407/?ref_=fn_t...</td>\n",
              "      <td>84.0</td>\n",
              "      <td>English</td>\n",
              "      <td>USA</td>\n",
              "      <td>PG</td>\n",
              "      <td>1100.0</td>\n",
              "      <td>2004.0</td>\n",
              "      <td>23.0</td>\n",
              "      <td>6.6</td>\n",
              "      <td>1.85</td>\n",
              "      <td>456</td>\n",
              "    </tr>\n",
              "  </tbody>\n",
              "</table>\n",
              "<p>5043 rows × 28 columns</p>\n",
              "</div>"
            ],
            "text/plain": [
              "      color      director_name  ...  aspect_ratio  movie_facebook_likes\n",
              "0     Color      James Cameron  ...          1.78                 33000\n",
              "1     Color     Gore Verbinski  ...          2.35                     0\n",
              "2     Color         Sam Mendes  ...          2.35                 85000\n",
              "3     Color  Christopher Nolan  ...          2.35                164000\n",
              "4       NaN        Doug Walker  ...           NaN                     0\n",
              "...     ...                ...  ...           ...                   ...\n",
              "5038  Color        Scott Smith  ...           NaN                    84\n",
              "5039  Color                NaN  ...         16.00                 32000\n",
              "5040  Color   Benjamin Roberds  ...           NaN                    16\n",
              "5041  Color        Daniel Hsia  ...          2.35                   660\n",
              "5042  Color           Jon Gunn  ...          1.85                   456\n",
              "\n",
              "[5043 rows x 28 columns]"
            ]
          },
          "metadata": {
            "tags": []
          },
          "execution_count": 168
        }
      ]
    }
  ]
}