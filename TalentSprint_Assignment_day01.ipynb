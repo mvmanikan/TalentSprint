{
  "nbformat": 4,
  "nbformat_minor": 0,
  "metadata": {
    "colab": {
      "name": "TalentSprint_Assignment_day01.ipynb",
      "provenance": [],
      "collapsed_sections": [],
      "authorship_tag": "ABX9TyOABR0NtEd+rVXvFXdMEw5P",
      "include_colab_link": true
    },
    "kernelspec": {
      "name": "python3",
      "display_name": "Python 3"
    }
  },
  "cells": [
    {
      "cell_type": "markdown",
      "metadata": {
        "id": "view-in-github",
        "colab_type": "text"
      },
      "source": [
        "<a href=\"https://colab.research.google.com/github/mvmanikan/TalentSprint/blob/master/TalentSprint_Assignment_day01.ipynb\" target=\"_parent\"><img src=\"https://colab.research.google.com/assets/colab-badge.svg\" alt=\"Open In Colab\"/></a>"
      ]
    },
    {
      "cell_type": "markdown",
      "metadata": {
        "id": "jRIWJhld8rhw",
        "colab_type": "text"
      },
      "source": [
        "# **Problem 01**\n",
        "\n",
        "**Date : 12.06.2020**\n",
        "\n",
        "Write a function(s) to check if a given number is a strong number or not\n",
        "A strong number is a number in which the sum of the factorial of the digits\n",
        "is equal to the number itself.\n",
        "\n",
        "Example:\n",
        "\n",
        "145 since 1! + 4! + 5! = 1 + 24 + 120 = 145\n",
        "\n",
        "Name of function: isStrongnumber() which accepts an integer and returns True\n",
        "or False\n",
        "\n",
        "1) isStrongnumber(145) then return True.\n",
        "\n",
        "2) isStrongnumber(123) then return False."
      ]
    },
    {
      "cell_type": "code",
      "metadata": {
        "id": "ER-q0rIo9v9x",
        "colab_type": "code",
        "outputId": "9c4b75d1-3c5b-4d4d-bbb4-55f507c512fa",
        "colab": {
          "base_uri": "https://localhost:8080/",
          "height": 72
        }
      },
      "source": [
        "def isStrongnumber(x):\n",
        "    sum = 0\n",
        "    check = x\n",
        "    while (x > 0):\n",
        "        total = 1\n",
        "        temp = x % 10\n",
        "        for i in range(1 , temp+1):\n",
        "            total = i * total\n",
        "        sum = total + sum\n",
        "        x = x // 10\n",
        "    if (check == sum):\n",
        "       print(str(check) + ' ' + \"is a strong number\")\n",
        "       return True\n",
        "    else:\n",
        "       print(str(check) + ' ' + \"is not a strong number\")\n",
        "       return False\n",
        "\n",
        "\n",
        "num = int(input(\"Enter a Strong number: \"))\n",
        "print(isStrongnumber(num))"
      ],
      "execution_count": 0,
      "outputs": [
        {
          "output_type": "stream",
          "text": [
            "Enter a Strong number: 123\n",
            "123 is not a strong number\n",
            "False\n"
          ],
          "name": "stdout"
        }
      ]
    },
    {
      "cell_type": "code",
      "metadata": {
        "id": "Htaq4AIN90cT",
        "colab_type": "code",
        "colab": {}
      },
      "source": [
        ""
      ],
      "execution_count": 0,
      "outputs": []
    },
    {
      "cell_type": "markdown",
      "metadata": {
        "id": "nCqulSH7-E-W",
        "colab_type": "text"
      },
      "source": [
        "# **Problem 02**\n",
        "\n",
        "Date : **12.06.2020**\n",
        "\n",
        "Write a function(s) to find all 3 digit Armstrong numbers\n",
        "\n",
        "An Armstrong number of three digits is an integer such that the sum of the cubes\n",
        "of its digits is equal to the number itself.\n",
        "\n",
        "Example:\n",
        "\n",
        "371 is an Armstrong number since 3 ** 3 + 7 ** 3 + 1 ** 3 = 371\n"
      ]
    },
    {
      "cell_type": "code",
      "metadata": {
        "id": "zI_ElG_a-SSP",
        "colab_type": "code",
        "outputId": "0801a427-b8c3-475d-92b7-3195a969c1dd",
        "colab": {
          "base_uri": "https://localhost:8080/",
          "height": 109
        }
      },
      "source": [
        "def isArmstrongNumber(x):\n",
        "    for i in range(x,1000):\n",
        "        sum = 0\n",
        "        start = i\n",
        "        while( start > 0):\n",
        "            temp = start % 10\n",
        "            total = temp ** 3\n",
        "            sum = sum + total\n",
        "            start = start // 10\n",
        "        if (sum == i):\n",
        "            print(str(sum) + ' ' + 'is an Armstrong Number')\n",
        "\n",
        "print(isArmstrongNumber(x=100))"
      ],
      "execution_count": 0,
      "outputs": [
        {
          "output_type": "stream",
          "text": [
            "153 is an Armstrong Number\n",
            "370 is an Armstrong Number\n",
            "371 is an Armstrong Number\n",
            "407 is an Armstrong Number\n",
            "None\n"
          ],
          "name": "stdout"
        }
      ]
    },
    {
      "cell_type": "markdown",
      "metadata": {
        "id": "vtUxy2dX-xjx",
        "colab_type": "text"
      },
      "source": [
        "# **Problem 03**\n",
        "\n",
        "Date : **12.06.2020**\n",
        "\n",
        "Implement a function which returns True if the argument given is Prime\n",
        "number otherwise False\n",
        "\n",
        "Example:\n",
        "\n",
        "Name of function: isPrime() which accepts an integer and returns True or False\n",
        "\n",
        "1) isPrime(11) then return True.\n",
        "\n",
        "2) isPrime(4) then return False."
      ]
    },
    {
      "cell_type": "code",
      "metadata": {
        "id": "di0OGZUp-_DR",
        "colab_type": "code",
        "outputId": "1fa5d244-3fd0-4e57-f0b7-1a2897e32ccf",
        "colab": {
          "base_uri": "https://localhost:8080/",
          "height": 90
        }
      },
      "source": [
        "def isPrime(num):\n",
        "    if (num > 2):\n",
        "        for i in range(2,num):\n",
        "            if (num % i == 0):\n",
        "                print(str(num) + ' ' + \"is not a prime number\")\n",
        "                print(str(i) + \" times \" + str(num // i) + \" is \" + str(num))\n",
        "                return False\n",
        "        else:\n",
        "            print(str(num) + ' ' + \"is a prime number\")\n",
        "            return True\n",
        "    else:\n",
        "        print(str(num) + ' ' + \"is not a prime number\")\n",
        "        return False\n",
        "\n",
        "num = int(input(\"Enter the number: \"))\n",
        "print(isPrime(num))"
      ],
      "execution_count": 0,
      "outputs": [
        {
          "output_type": "stream",
          "text": [
            "Enter the number: 4\n",
            "4 is not a prime number\n",
            "2 times 2 is 4\n",
            "False\n"
          ],
          "name": "stdout"
        }
      ]
    },
    {
      "cell_type": "markdown",
      "metadata": {
        "id": "kAX1Mr8T_Xa7",
        "colab_type": "text"
      },
      "source": [
        "# **Problem 04**\n",
        "\n",
        "Date : **12.06.2020**\n",
        "\n",
        "If we list all the natural numbers below 10 that are multiples of 3 or 5, we get\n",
        "3, 5, 6 and 9. The sum of these multiples is 23.\n",
        "\n",
        "Implement a function to find the sum of all the multiples of 3 or 5 below 1000"
      ]
    },
    {
      "cell_type": "code",
      "metadata": {
        "id": "UsUDZMM-_jS6",
        "colab_type": "code",
        "outputId": "4e116a00-72ba-44ca-ec56-4d472670f286",
        "colab": {
          "base_uri": "https://localhost:8080/",
          "height": 35
        }
      },
      "source": [
        "def sumOfMultiple(x):\n",
        "    sum = 0\n",
        "    for i in range(x):\n",
        "        if ((i % 3 == 0) or (i % 5 == 0)):\n",
        "            sum += i\n",
        "    return sum\n",
        "    #print(sum)\n",
        "\n",
        "print(sumOfMultiple(x=1000))"
      ],
      "execution_count": 0,
      "outputs": [
        {
          "output_type": "stream",
          "text": [
            "233168\n"
          ],
          "name": "stdout"
        }
      ]
    }
  ]
}